{
  "nbformat": 4,
  "nbformat_minor": 0,
  "metadata": {
    "colab": {
      "provenance": [],
      "collapsed_sections": []
    },
    "kernelspec": {
      "name": "python3",
      "display_name": "Python 3"
    },
    "language_info": {
      "name": "python"
    }
  },
  "cells": [
    {
      "cell_type": "markdown",
      "source": [
        "Name : varaliya mohammed\n",
        "\n",
        "Roll no : F115\n"
      ],
      "metadata": {
        "id": "t6FjJ73WvF7p"
      }
    },
    {
      "cell_type": "code",
      "execution_count": null,
      "metadata": {
        "colab": {
          "base_uri": "https://localhost:8080/"
        },
        "id": "yDb3mGIWvE5r",
        "outputId": "b1d9f12e-452f-4b0f-d640-1c3ef957cc71"
      },
      "outputs": [
        {
          "output_type": "stream",
          "name": "stdout",
          "text": [
            "2019-01-01\n",
            "2001-02-25\n"
          ]
        }
      ],
      "source": [
        "import datetime\n",
        "today = datetime.date.today()\n",
        "new_year = datetime.date(2019, 1, 1)\n",
        "print(new_year)\n",
        "\n",
        "import datetime\n",
        "today = datetime.date.today()\n",
        "new_year = datetime.date(2001, 2, 25)\n",
        "print(new_year)\n"
      ]
    },
    {
      "cell_type": "code",
      "source": [
        "import datetime\n",
        "#Time object\n",
        "noon = datetime.time(12, 0, 0)\n",
        "print(noon)\n",
        "\n",
        "import datetime\n",
        "#Time object\n",
        "noon = datetime.time(9, 6, 3)\n",
        "print(noon)\n"
      ],
      "metadata": {
        "colab": {
          "base_uri": "https://localhost:8080/"
        },
        "id": "lalnJOJ-xyVE",
        "outputId": "6dc544fe-a8a4-409a-aadf-6c09e319db6f"
      },
      "execution_count": null,
      "outputs": [
        {
          "output_type": "stream",
          "name": "stdout",
          "text": [
            "12:00:00\n",
            "09:06:03\n"
          ]
        }
      ]
    },
    {
      "cell_type": "code",
      "source": [
        "import datetime\n",
        "# Current datetime\n",
        "now = datetime.datetime.now()\n",
        "print(now)\n",
        " \n",
        " \n",
        "import datetime\n",
        "# Current datetime\n",
        "tommorrow = datetime.datetime.now()\n",
        "print(tommorrow)\n"
      ],
      "metadata": {
        "colab": {
          "base_uri": "https://localhost:8080/"
        },
        "id": "YBoTn0Fhynev",
        "outputId": "3efcb106-d426-40c9-946e-85cd6192b2ea"
      },
      "execution_count": null,
      "outputs": [
        {
          "output_type": "stream",
          "name": "stdout",
          "text": [
            "2022-02-15 10:50:15.625306\n",
            "2022-02-15 10:50:15.626973\n"
          ]
        }
      ]
    },
    {
      "cell_type": "code",
      "source": [
        "import datetime\n",
        "# Datetime object\n",
        "millenium_turn = datetime.datetime(2019, 1, 1, 0, 0, 0)\n",
        "print(millenium_turn) \n",
        " \n",
        "import datetime\n",
        "# Datetime object\n",
        "millenium_turn = datetime.datetime(2016, 1, 1, 6, 7, 1)\n",
        "print(millenium_turn)\n"
      ],
      "metadata": {
        "colab": {
          "base_uri": "https://localhost:8080/"
        },
        "id": "hS0asvqdzGCX",
        "outputId": "8a453abb-7221-4d7e-f593-63d77a05ec8e"
      },
      "execution_count": null,
      "outputs": [
        {
          "output_type": "stream",
          "name": "stdout",
          "text": [
            "2019-01-01 00:00:00\n",
            "2016-01-01 06:07:01\n"
          ]
        }
      ]
    },
    {
      "cell_type": "code",
      "source": [
        "import datetime\n",
        "\n",
        "# The size of each step in days\n",
        "day_delta = datetime.timedelta(days=2)\n",
        " \n",
        "start_date = datetime.date.today()\n",
        "end_date = start_date + 7*day_delta\n",
        " \n",
        "for i in range((end_date - start_date).days):\n",
        "    print(start_date + i*day_delta)\n",
        " \n",
        "import datetime\n",
        " \n",
        "# The size of each step in days\n",
        "day_delta = datetime.timedelta(days=1)\n",
        " \n",
        "start_date = datetime.date.today()\n",
        "end_date = start_date + 30*day_delta\n",
        " \n",
        "for i in range((end_date - start_date).days):\n",
        "    print(start_date + i*day_delta)\n"
      ],
      "metadata": {
        "colab": {
          "base_uri": "https://localhost:8080/"
        },
        "id": "nLfK7vEkznlI",
        "outputId": "a73ddd98-d5a6-4a8d-e7c9-862548fec63b"
      },
      "execution_count": null,
      "outputs": [
        {
          "output_type": "stream",
          "name": "stdout",
          "text": [
            "2022-02-15\n",
            "2022-02-17\n",
            "2022-02-19\n",
            "2022-02-21\n",
            "2022-02-23\n",
            "2022-02-25\n",
            "2022-02-27\n",
            "2022-03-01\n",
            "2022-03-03\n",
            "2022-03-05\n",
            "2022-03-07\n",
            "2022-03-09\n",
            "2022-03-11\n",
            "2022-03-13\n",
            "2022-02-15\n",
            "2022-02-16\n",
            "2022-02-17\n",
            "2022-02-18\n",
            "2022-02-19\n",
            "2022-02-20\n",
            "2022-02-21\n",
            "2022-02-22\n",
            "2022-02-23\n",
            "2022-02-24\n",
            "2022-02-25\n",
            "2022-02-26\n",
            "2022-02-27\n",
            "2022-02-28\n",
            "2022-03-01\n",
            "2022-03-02\n",
            "2022-03-03\n",
            "2022-03-04\n",
            "2022-03-05\n",
            "2022-03-06\n",
            "2022-03-07\n",
            "2022-03-08\n",
            "2022-03-09\n",
            "2022-03-10\n",
            "2022-03-11\n",
            "2022-03-12\n",
            "2022-03-13\n",
            "2022-03-14\n",
            "2022-03-15\n",
            "2022-03-16\n"
          ]
        }
      ]
    },
    {
      "cell_type": "markdown",
      "source": [],
      "metadata": {
        "id": "jUjTaVpmzFXg"
      }
    },
    {
      "cell_type": "code",
      "source": [
        "from datetime import datetime, timedelta\n",
        "now = datetime.now()\n",
        "then = datetime(2015, 5, 23)\n",
        "print(then)\n",
        " \n",
        "from datetime import datetime, timedelta\n",
        "now = datetime.now()\n",
        "then = datetime(2019, 2, 25)\n",
        "print(then)\n"
      ],
      "metadata": {
        "colab": {
          "base_uri": "https://localhost:8080/"
        },
        "id": "2-5r3nOE1LS5",
        "outputId": "8fa943c7-8cbe-4da0-e7fd-5649d194ab63"
      },
      "execution_count": null,
      "outputs": [
        {
          "output_type": "stream",
          "name": "stdout",
          "text": [
            "2015-05-23 00:00:00\n",
            "2019-02-25 00:00:00\n"
          ]
        }
      ]
    },
    {
      "cell_type": "code",
      "source": [
        "from datetime import datetime, timedelta\n",
        "now = datetime.now()\n",
        "then = datetime(2019, 5, 23)\n",
        "delta = now-then\n",
        "print(delta)\n",
        " \n",
        "from datetime import datetime, timedelta\n",
        "now = datetime.now()\n",
        "then = datetime(2020, 3, 3)\n",
        "delta = now-then\n",
        "print(delta)\n"
      ],
      "metadata": {
        "colab": {
          "base_uri": "https://localhost:8080/"
        },
        "id": "M5Y88n441pgZ",
        "outputId": "99409dfa-34dc-451b-fb81-278558ef138f"
      },
      "execution_count": null,
      "outputs": [
        {
          "output_type": "stream",
          "name": "stdout",
          "text": [
            "999 days, 10:50:15.716564\n",
            "714 days, 10:50:15.718692\n"
          ]
        }
      ]
    },
    {
      "cell_type": "code",
      "source": [
        "from datetime import datetime, timedelta\n",
        "now = datetime.now()\n",
        "then = datetime(2019, 5, 23)\n",
        "delta = now-then\n",
        "print(delta.days)\n",
        "# 60\n",
        "print(delta.seconds)\n",
        "# 40826\n",
        " \n",
        "from datetime import datetime, timedelta\n",
        "now = datetime.now()\n",
        "then = datetime(2017, 3, 18)\n",
        "delta = now-then\n",
        "print(delta.days)\n",
        "# 60\n",
        "print(delta.seconds)\n",
        "# 40826\n"
      ],
      "metadata": {
        "colab": {
          "base_uri": "https://localhost:8080/"
        },
        "id": "3bum-nGt2Grd",
        "outputId": "118cc317-4f85-4087-c37f-cf5ddda3ab9d"
      },
      "execution_count": null,
      "outputs": [
        {
          "output_type": "stream",
          "name": "stdout",
          "text": [
            "999\n",
            "39015\n",
            "1795\n",
            "39015\n"
          ]
        }
      ]
    },
    {
      "cell_type": "code",
      "source": [
        "from datetime import date, timedelta\n",
        "current_date = date.today().isoformat()   \n",
        "days_after = (date.today()+timedelta(days=30)).isoformat()  \n",
        "print(\"\\nCurrent Date: \",current_date)\n",
        "print(\"30 days after current date : \",days_after)\n",
        " \n",
        "from datetime import date, timedelta\n",
        "current_date = date.today().isoformat()   \n",
        "days_after = (date.today()+timedelta(days=20)).isoformat()  \n",
        "print(\"\\nCurrent Date: \",current_date)\n",
        "print(\"20 days after current date : \",days_after)\n"
      ],
      "metadata": {
        "colab": {
          "base_uri": "https://localhost:8080/"
        },
        "id": "sAATD8-92uTj",
        "outputId": "f8ef345e-8a3a-4db3-829a-a82bdf7d2fed"
      },
      "execution_count": null,
      "outputs": [
        {
          "output_type": "stream",
          "name": "stdout",
          "text": [
            "\n",
            "Current Date:  2022-02-15\n",
            "30 days after current date :  2022-03-17\n",
            "\n",
            "Current Date:  2022-02-15\n",
            "20 days after current date :  2022-03-07\n"
          ]
        }
      ]
    },
    {
      "cell_type": "code",
      "source": [
        "from datetime import date, timedelta\n",
        " \n",
        "current_date = date.today().isoformat()   \n",
        "days_before = (date.today()-timedelta(days=30)).isoformat()\n",
        " \n",
        "print(\"\\nCurrent Date: \",current_date)\n",
        "print(\"30 days before current date: \",days_before)\n",
        " \n",
        "from datetime import date, timedelta\n",
        " \n",
        "current_date = date.today().isoformat()   \n",
        "days_before = (date.today()-timedelta(days=15)).isoformat()\n",
        " \n",
        "print(\"\\nCurrent Date: \",current_date)\n",
        "print(\"15 days before current date: \",days_before)\n"
      ],
      "metadata": {
        "colab": {
          "base_uri": "https://localhost:8080/"
        },
        "id": "RM2nwaEe3eVz",
        "outputId": "b51b8d15-44ee-4d0a-8531-710cd4d07022"
      },
      "execution_count": null,
      "outputs": [
        {
          "output_type": "stream",
          "name": "stdout",
          "text": [
            "\n",
            "Current Date:  2022-02-15\n",
            "30 days before current date:  2022-01-16\n",
            "\n",
            "Current Date:  2022-02-15\n",
            "15 days before current date:  2022-01-31\n"
          ]
        }
      ]
    },
    {
      "cell_type": "code",
      "source": [
        "import time\n",
        "from datetime import datetime\n",
        "seconds_since_epoch=time.time()  #1469182681.709\n",
        "\n",
        "utc_date=datetime.utcfromtimestamp(seconds_since_epoch)\n",
        "print(utc_date)"
      ],
      "metadata": {
        "colab": {
          "base_uri": "https://localhost:8080/"
        },
        "id": "PHm6r2Qd34uQ",
        "outputId": "fc85d707-fe74-4747-e703-9287a37a771d"
      },
      "execution_count": null,
      "outputs": [
        {
          "output_type": "stream",
          "name": "stdout",
          "text": [
            "2022-02-15 10:50:15.796150\n"
          ]
        }
      ]
    },
    {
      "cell_type": "code",
      "source": [
        "import datetime\n",
        "today = datetime.date.today()\n",
        "print('Today:', today)\n",
        "\n",
        "yesterday = today - datetime.timedelta(days=1)\n",
        "print('Yesterday:', yesterday)\n",
        "\n",
        "tomorrow = today + datetime.timedelta(days=1)\n",
        "print('Tomorrow:', tomorrow)\n",
        "\n",
        "print('Time between tomorrow and yesterday:', tomorrow - yesterday)\n"
      ],
      "metadata": {
        "colab": {
          "base_uri": "https://localhost:8080/"
        },
        "id": "k__e1Tp85Alr",
        "outputId": "258a125f-2158-4ba6-850b-21670058771b"
      },
      "execution_count": null,
      "outputs": [
        {
          "output_type": "stream",
          "name": "stdout",
          "text": [
            "Today: 2022-02-15\n",
            "Yesterday: 2022-02-14\n",
            "Tomorrow: 2022-02-16\n",
            "Time between tomorrow and yesterday: 2 days, 0:00:00\n"
          ]
        }
      ]
    },
    {
      "cell_type": "code",
      "source": [
        "import calendar\n",
        "from datetime import date\n",
        " \n",
        "def monthdelta(date, delta):\n",
        "    m, y = (date.month+delta) % 12, date.year + ((date.month)+delta-1) // 12\n",
        "    if not m: m = 12\n",
        "    d = min(date.day, calendar.monthrange(y, m)[1])\n",
        "    return date.replace(day=d,month=m, year=y)\n",
        " \n",
        "next_month = monthdelta(date.today(), 1) #datetime.date(2019, 10, 23)\n",
        "print(next_month)\n",
        " \n",
        "import calendar\n",
        "from datetime import date\n",
        " \n",
        "def monthdelta(date, delta):\n",
        "    m, y = (date.month+delta) % 6, date.year + ((date.month)+delta-1) // 6\n",
        "    if not m: m = 6\n",
        "    d = min(date.day, calendar.monthrange(y, m)[1])\n",
        "    return date.replace(day=d,month=m, year=y)\n",
        " \n",
        "next_month = monthdelta(date.today(), 1) #datetime.date(2004, 2, 25)\n",
        "print(next_month)\n"
      ],
      "metadata": {
        "colab": {
          "base_uri": "https://localhost:8080/"
        },
        "id": "byUYEIjg5x8w",
        "outputId": "bfbb1cba-9f5b-448c-ed4e-766025e85bf9"
      },
      "execution_count": null,
      "outputs": [
        {
          "output_type": "stream",
          "name": "stdout",
          "text": [
            "2022-03-15\n",
            "2022-03-15\n"
          ]
        }
      ]
    },
    {
      "cell_type": "code",
      "source": [
        "import datetime\n",
        "import dateutil.relativedelta\n",
        "d = datetime.datetime.strptime(\"2019-03-31\", \"%Y-%m-%d\")\n",
        "d2 = d - dateutil.relativedelta.relativedelta(months=1)  \n",
        "\n",
        "#datetime.datetime(2019, 2, 28, 0, 0)\n",
        "print(d2)\n"
      ],
      "metadata": {
        "colab": {
          "base_uri": "https://localhost:8080/"
        },
        "id": "Ged1ILwY6ibU",
        "outputId": "2447a59f-f7c6-4d6c-e1c4-d760023166d5"
      },
      "execution_count": null,
      "outputs": [
        {
          "output_type": "stream",
          "name": "stdout",
          "text": [
            "2019-02-28 00:00:00\n"
          ]
        }
      ]
    },
    {
      "cell_type": "code",
      "source": [
        "from datetime import datetime\n",
        "from dateutil import tz\n",
        "utc = tz.tzutc()\n",
        "local = tz.tzlocal()\n",
        "utc_now = datetime.utcnow()\n",
        "utc_now \n",
        "# Not timezone-aware.\n",
        "utc_now = utc_now.replace(tzinfo=utc)\n",
        "utc_now \n",
        "# Timezone-aware.\n",
        "local_now = utc_now.astimezone(local)\n",
        "local_now \n",
        "# Converted to local time.\n",
        "print(local_now)\n"
      ],
      "metadata": {
        "colab": {
          "base_uri": "https://localhost:8080/"
        },
        "id": "GAOtvcBV7h_M",
        "outputId": "88b592e0-a109-4630-d9f8-32560bca5f5e"
      },
      "execution_count": null,
      "outputs": [
        {
          "output_type": "stream",
          "name": "stdout",
          "text": [
            "2022-02-15 10:50:15.880439+00:00\n"
          ]
        }
      ]
    },
    {
      "cell_type": "code",
      "source": [
        "from dateutil.parser import parse\n",
        "dt = parse(\"Today is January 1, 2019 at 8:21:00AM\", fuzzy=True)\n",
        "print(dt)\n",
        "\n",
        "from dateutil.parser import parse\n",
        "dt = parse(\"Today is February 25, 2022 at 12:00AM\", fuzzy=True)\n",
        "print(dt)\n"
      ],
      "metadata": {
        "colab": {
          "base_uri": "https://localhost:8080/"
        },
        "id": "wfvUN26C8Mti",
        "outputId": "57c060fd-1389-4ea4-9a4b-b7c5e2fe803e"
      },
      "execution_count": null,
      "outputs": [
        {
          "output_type": "stream",
          "name": "stdout",
          "text": [
            "2019-01-01 08:21:00\n",
            "2022-02-25 00:00:00\n"
          ]
        }
      ]
    },
    {
      "cell_type": "code",
      "source": [
        "from datetime import datetime\n",
        "print (datetime.now().isoformat())\n",
        "\n",
        "from datetime import datetime\n",
        "print (datetime.today().isoformat())\n"
      ],
      "metadata": {
        "colab": {
          "base_uri": "https://localhost:8080/"
        },
        "id": "JDNLb-Op8pFf",
        "outputId": "9616ec3f-7d4a-4193-d567-ca6b88da5bdd"
      },
      "execution_count": null,
      "outputs": [
        {
          "output_type": "stream",
          "name": "stdout",
          "text": [
            "2022-02-15T10:50:15.909155\n",
            "2022-02-15T10:50:15.909410\n"
          ]
        }
      ]
    },
    {
      "cell_type": "code",
      "source": [
        "from datetime import datetime\n",
        "print (datetime.now().isoformat())\n"
      ],
      "metadata": {
        "colab": {
          "base_uri": "https://localhost:8080/"
        },
        "id": "I8-wEl5_9HGl",
        "outputId": "24052317-6d6f-4dd8-99ab-35c51a1cb033"
      },
      "execution_count": null,
      "outputs": [
        {
          "output_type": "stream",
          "name": "stdout",
          "text": [
            "2022-02-15T10:50:15.917737\n"
          ]
        }
      ]
    },
    {
      "cell_type": "code",
      "source": [
        "from datetime import datetime\n",
        "from dateutil.tz import tzlocal\n",
        "print (datetime.now(tzlocal()).replace(microsecond=0).isoformat())\n",
        "\n",
        "from datetime import datetime\n",
        "from dateutil.tz import tzlocal\n",
        "print (datetime.now(tzlocal()).replace(microsecond=1).isoformat())\n"
      ],
      "metadata": {
        "colab": {
          "base_uri": "https://localhost:8080/"
        },
        "id": "FYMfhBjG9aAh",
        "outputId": "adcccb5b-f109-4d71-b342-87c1c5bfdf2a"
      },
      "execution_count": null,
      "outputs": [
        {
          "output_type": "stream",
          "name": "stdout",
          "text": [
            "2022-02-15T10:50:15+00:00\n",
            "2022-02-15T10:50:15.000001+00:00\n"
          ]
        }
      ]
    },
    {
      "cell_type": "code",
      "source": [
        "from dateutil import tz\n",
        "from dateutil.parser import parse\n",
        "ET = tz.gettz('US/Eastern')\n",
        "CT = tz.gettz('US/Central')\n",
        "MT = tz.gettz('US/Mountain')\n",
        "PT = tz.gettz('US/Pacific')\n",
        "us_tzinfos = {'CST': CT, 'CDT': CT,\n",
        "              'EST': ET, 'EDT': ET,\n",
        "              'MST': MT, 'MDT': MT,\n",
        "              'PST': PT, 'PDT': PT}\n",
        "dt_est = parse('2018-1-2 04:00:00 EST', tzinfos=us_tzinfos)\n",
        "dt_pst = parse('2019-3-11 16:00:00 PST', tzinfos=us_tzinfos)\n",
        "print (dt_est)\n",
        "print (dt_pst)\n",
        "\n",
        "\n",
        "from dateutil import tz\n",
        "from dateutil.parser import parse\n",
        "ET = tz.gettz('US/Eastern')\n",
        "CT = tz.gettz('US/Central')\n",
        "MT = tz.gettz('US/Mountain')\n",
        "PT = tz.gettz('US/Pacific')\n",
        "us_tzinfos = {'CST': CT, 'CDT': CT,\n",
        "              'EST': ET, 'EDT': ET,\n",
        "              'MST': MT, 'MDT': MT,\n",
        "              'PST': PT, 'PDT': PT}\n",
        "dt_est = parse('2014-1-2 04:00:00 EST', tzinfos=us_tzinfos)\n",
        "dt_pst = parse('2016-3-11 16:00:00 PST', tzinfos=us_tzinfos)\n",
        "print (dt_est)\n",
        "print (dt_pst)\n"
      ],
      "metadata": {
        "colab": {
          "base_uri": "https://localhost:8080/"
        },
        "id": "lqx6v4ze9wxc",
        "outputId": "9db445d8-da72-4d6b-d3fc-0fac244cbcb6"
      },
      "execution_count": null,
      "outputs": [
        {
          "output_type": "stream",
          "name": "stdout",
          "text": [
            "2018-01-02 04:00:00-05:00\n",
            "2019-03-11 16:00:00-07:00\n",
            "2014-01-02 04:00:00-05:00\n",
            "2016-03-11 16:00:00-08:00\n"
          ]
        }
      ]
    },
    {
      "cell_type": "code",
      "source": [
        "import datetime\n",
        "print (str(datetime.datetime(2019, 7, 22, 9, 25, 59, 555555)))\n"
      ],
      "metadata": {
        "colab": {
          "base_uri": "https://localhost:8080/"
        },
        "id": "zyCE55Ra97mp",
        "outputId": "6582104c-9340-4597-fa79-86308a55c12e"
      },
      "execution_count": null,
      "outputs": [
        {
          "output_type": "stream",
          "name": "stdout",
          "text": [
            "2019-07-22 09:25:59.555555\n"
          ]
        }
      ]
    },
    {
      "cell_type": "code",
      "source": [
        "import datetime\n",
        "print(str(datetime.datetime(2019, 7, 22, 9, 25, 59, 0)))\n"
      ],
      "metadata": {
        "colab": {
          "base_uri": "https://localhost:8080/"
        },
        "id": "tzRtBaQk-OwJ",
        "outputId": "36f530d6-90ac-4b64-b821-576961e3c911"
      },
      "execution_count": null,
      "outputs": [
        {
          "output_type": "stream",
          "name": "stdout",
          "text": [
            "2019-07-22 09:25:59\n"
          ]
        }
      ]
    },
    {
      "cell_type": "code",
      "source": [
        "import datetime\n",
        "dt = datetime.datetime.strptime(\"2019-04-15T08:27:18-0500\", \"%Y-%m-%dT%H:%M:%S%z\")\n",
        "print(dt)\n",
        "\n"
      ],
      "metadata": {
        "colab": {
          "base_uri": "https://localhost:8080/"
        },
        "id": "LC3yRzvg-2Vg",
        "outputId": "f15614d8-02a0-401e-e0e5-c369895b6033"
      },
      "execution_count": null,
      "outputs": [
        {
          "output_type": "stream",
          "name": "stdout",
          "text": [
            "2019-04-15 08:27:18-05:00\n"
          ]
        }
      ]
    },
    {
      "cell_type": "code",
      "source": [
        "from datetime import datetime, timedelta, timezone\n",
        "JST = timezone(timedelta(hours=+9))\n",
        "\n",
        "dt = datetime(2019, 1, 1, 12, 0, 0, tzinfo=JST)\n",
        "print(dt)# 2019-01-01 12:00:00+09:00\n",
        "\n",
        "print(dt.tzname())\n",
        "# UTC+09:00\n",
        "dt = datetime(2019, 1, 1, 12, 0, 0, tzinfo=timezone(timedelta(hours=9), 'JST'))\n",
        "print(dt.tzname)\n",
        "# 'JST'\n"
      ],
      "metadata": {
        "colab": {
          "base_uri": "https://localhost:8080/"
        },
        "id": "knnU-84I_NxS",
        "outputId": "a03c8d76-2b11-4126-98c0-49ef4b09bd61"
      },
      "execution_count": null,
      "outputs": [
        {
          "output_type": "stream",
          "name": "stdout",
          "text": [
            "2019-01-01 12:00:00+09:00\n",
            "UTC+09:00\n",
            "<built-in method tzname of datetime.datetime object at 0x7fed8da15120>\n"
          ]
        }
      ]
    },
    {
      "cell_type": "code",
      "source": [
        "from datetime import datetime\n",
        "from dateutil import tz\n",
        "local = tz.gettz() # Local time\n",
        "PT = tz.gettz('US/Pacific') # Pacific time\n",
        "\n",
        "dt_l = datetime(2019, 1, 1, 12, tzinfo=local) # I am in EST\n",
        "dt_pst = datetime(2019, 1, 1, 12, tzinfo=PT)\n",
        "dt_pdt = datetime(2019, 7, 1, 12, tzinfo=PT) # DST is handled automatically\n",
        "print(dt_l)# 2019-01-01 12:00:00-05:00\n",
        "print(dt_pst)# 2019-01-01 12:00:00-08:00\n",
        "print(dt_pdt)# 2019-07-01 12:00:00-07:00\n"
      ],
      "metadata": {
        "colab": {
          "base_uri": "https://localhost:8080/"
        },
        "id": "X9re1md3_kx2",
        "outputId": "ea0770f1-126a-4b46-fd9d-77832c33cb10"
      },
      "execution_count": null,
      "outputs": [
        {
          "output_type": "stream",
          "name": "stdout",
          "text": [
            "2019-01-01 12:00:00+00:00\n",
            "2019-01-01 12:00:00-08:00\n",
            "2019-07-01 12:00:00-07:00\n"
          ]
        }
      ]
    },
    {
      "cell_type": "markdown",
      "source": [
        "Thank you"
      ],
      "metadata": {
        "id": "ko9FZhG2AJId"
      }
    }
  ]
}