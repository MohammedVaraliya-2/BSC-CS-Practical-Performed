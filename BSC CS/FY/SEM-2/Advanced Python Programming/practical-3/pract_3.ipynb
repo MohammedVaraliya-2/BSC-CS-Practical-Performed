{
  "metadata": {
    "kernelspec": {
      "language": "python",
      "display_name": "Python 3",
      "name": "python3"
    },
    "language_info": {
      "pygments_lexer": "ipython3",
      "nbconvert_exporter": "python",
      "version": "3.6.4",
      "file_extension": ".py",
      "codemirror_mode": {
        "name": "ipython",
        "version": 3
      },
      "name": "python",
      "mimetype": "text/x-python"
    },
    "colab": {
      "provenance": []
    }
  },
  "nbformat_minor": 0,
  "nbformat": 4,
  "cells": [
    {
      "cell_type": "markdown",
      "source": [
        "# 30 REGULAR EXPRESSION EXERCISES + SOLUTIONS!"
      ],
      "metadata": {
        "id": "EjQ9Soh6KRBx"
      }
    },
    {
      "cell_type": "markdown",
      "source": [
        "Regex, you never know when they might come in handy. It's one of the \"good programmer\"'s fundamental yet a few people actually masters them.\n",
        "\n",
        "Challenge yourself in 30 exercises, just hide the solution in order not to peek ;)"
      ],
      "metadata": {
        "id": "3uEZkmDnKRB0"
      }
    },
    {
      "cell_type": "code",
      "source": [
        "import re"
      ],
      "metadata": {
        "trusted": true,
        "id": "1mu9ubLtKRB2"
      },
      "execution_count": null,
      "outputs": []
    },
    {
      "cell_type": "markdown",
      "source": [
        "1) Write a Python program to check that a string contains only a certain set of characters (in this case a-z, A-Z and 0-9)."
      ],
      "metadata": {
        "id": "OuUY-vfFKRB4"
      }
    },
    {
      "cell_type": "code",
      "source": [
        "# Your code here"
      ],
      "metadata": {
        "trusted": true,
        "id": "g0e4Bfq8KRB5"
      },
      "execution_count": null,
      "outputs": []
    },
    {
      "cell_type": "code",
      "source": [
        "# Solution\n",
        "def is_allowed_specific_char(string):\n",
        "    charRe = re.compile(r'[^a-zA-Z0-9.]')\n",
        "    string = charRe.search(string)\n",
        "    return not bool(string)\n",
        "\n",
        "print(is_allowed_specific_char(\"ABCDEFabcdef123450\")) \n",
        "print(is_allowed_specific_char(\"*&%@#!}{\"))"
      ],
      "metadata": {
        "trusted": true,
        "colab": {
          "base_uri": "https://localhost:8080/"
        },
        "id": "FKn7JE03KRB6",
        "outputId": "d32f053c-c7fc-48b0-fa0a-dfcd0e08757d"
      },
      "execution_count": null,
      "outputs": [
        {
          "output_type": "stream",
          "name": "stdout",
          "text": [
            "True\n",
            "False\n"
          ]
        }
      ]
    },
    {
      "cell_type": "markdown",
      "source": [
        "2) Write a Python program that matches a string that has an a followed by zero or more b's"
      ],
      "metadata": {
        "id": "cHc4umlmKRB6"
      }
    },
    {
      "cell_type": "code",
      "source": [
        "# Your code here"
      ],
      "metadata": {
        "trusted": true,
        "id": "G0VTjZ0FKRB7"
      },
      "execution_count": null,
      "outputs": []
    },
    {
      "cell_type": "code",
      "source": [
        "# Solution\n",
        "def text_match(text):\n",
        "        patterns = 'ab*?'\n",
        "        if re.search(patterns,  text):\n",
        "                return 'Found a match!'\n",
        "        else:\n",
        "                return('Not matched!')\n",
        "\n",
        "print(text_match(\"ac\"))\n",
        "print(text_match(\"abc\"))\n",
        "print(text_match(\"abbc\"))"
      ],
      "metadata": {
        "trusted": true,
        "colab": {
          "base_uri": "https://localhost:8080/"
        },
        "id": "8IaVY2bMKRB8",
        "outputId": "83d1a27c-f996-4b36-dfce-f64edd801376"
      },
      "execution_count": null,
      "outputs": [
        {
          "output_type": "stream",
          "name": "stdout",
          "text": [
            "Found a match!\n",
            "Found a match!\n",
            "Found a match!\n"
          ]
        }
      ]
    },
    {
      "cell_type": "markdown",
      "source": [
        "3) Write a Python program that matches a string that has an a followed by one or more b's"
      ],
      "metadata": {
        "id": "oo-dsrnFKRB8"
      }
    },
    {
      "cell_type": "code",
      "source": [
        "# Your code here"
      ],
      "metadata": {
        "trusted": true,
        "id": "BhRlbvCgKRB9"
      },
      "execution_count": null,
      "outputs": []
    },
    {
      "cell_type": "code",
      "source": [
        "# Solution\n",
        "def text_match(text):\n",
        "        patterns = 'ab+?'\n",
        "        if re.search(patterns,  text):\n",
        "                return 'Found a match!'\n",
        "        else:\n",
        "                return('Not matched!')\n",
        "\n",
        "print(text_match(\"ab\"))\n",
        "print(text_match(\"abc\"))"
      ],
      "metadata": {
        "trusted": true,
        "colab": {
          "base_uri": "https://localhost:8080/"
        },
        "id": "Ce8FSqBDKRB9",
        "outputId": "4a9236c0-06e9-488a-ec6e-e1ea616f3355"
      },
      "execution_count": null,
      "outputs": [
        {
          "output_type": "stream",
          "name": "stdout",
          "text": [
            "Found a match!\n",
            "Found a match!\n"
          ]
        }
      ]
    },
    {
      "cell_type": "markdown",
      "source": [
        "4) Write a Python program that matches a string that has an a followed by zero or one 'b'"
      ],
      "metadata": {
        "id": "KKk3-3ueKRB-"
      }
    },
    {
      "cell_type": "code",
      "source": [
        "# Your code here"
      ],
      "metadata": {
        "trusted": true,
        "id": "yxBHRklmKRB_"
      },
      "execution_count": null,
      "outputs": []
    },
    {
      "cell_type": "code",
      "source": [
        "# Solution\n",
        "def text_match(text):\n",
        "        patterns = 'ab?'\n",
        "        if re.search(patterns,  text):\n",
        "                return 'Found a match!'\n",
        "        else:\n",
        "                return('Not matched!')\n",
        "\n",
        "print(text_match(\"ab\"))\n",
        "print(text_match(\"abc\"))\n",
        "print(text_match(\"abbc\"))\n",
        "print(text_match(\"aabbc\"))"
      ],
      "metadata": {
        "trusted": true,
        "colab": {
          "base_uri": "https://localhost:8080/"
        },
        "id": "6VgzZEgpKRB_",
        "outputId": "305da60a-8515-4d6b-b9ff-9e3b02f3a1bf"
      },
      "execution_count": null,
      "outputs": [
        {
          "output_type": "stream",
          "name": "stdout",
          "text": [
            "Found a match!\n",
            "Found a match!\n",
            "Found a match!\n",
            "Found a match!\n"
          ]
        }
      ]
    },
    {
      "cell_type": "markdown",
      "source": [
        "5) Write a Python program that matches a string that has an a followed by three 'b'"
      ],
      "metadata": {
        "id": "sRozaHxmKRCA"
      }
    },
    {
      "cell_type": "code",
      "source": [
        "# Your code here"
      ],
      "metadata": {
        "trusted": true,
        "id": "nCdh1TIeKRCA"
      },
      "execution_count": null,
      "outputs": []
    },
    {
      "cell_type": "code",
      "source": [
        "# Solution\n",
        "def text_match(text):\n",
        "        patterns = 'ab{3}?'\n",
        "        if re.search(patterns,  text):\n",
        "                return 'Found a match!'\n",
        "        else:\n",
        "                return('Not matched!')\n",
        "\n",
        "print(text_match(\"abbb\"))\n",
        "print(text_match(\"aabbbbbc\"))"
      ],
      "metadata": {
        "trusted": true,
        "colab": {
          "base_uri": "https://localhost:8080/"
        },
        "id": "C48BFC3eKRCB",
        "outputId": "78f1c3f7-651a-4f71-d4e8-f7fd0b7569a3"
      },
      "execution_count": null,
      "outputs": [
        {
          "output_type": "stream",
          "name": "stdout",
          "text": [
            "Found a match!\n",
            "Found a match!\n"
          ]
        }
      ]
    },
    {
      "cell_type": "markdown",
      "source": [
        "6) Write a Python program that matches a string that has an a followed by two to three 'b'."
      ],
      "metadata": {
        "id": "EBrc5p7OKRCB"
      }
    },
    {
      "cell_type": "code",
      "source": [
        "# Your code here"
      ],
      "metadata": {
        "trusted": true,
        "id": "wQ_YjWC5KRCC"
      },
      "execution_count": null,
      "outputs": []
    },
    {
      "cell_type": "code",
      "source": [
        "# Solution\n",
        "def text_match(text):\n",
        "        patterns = 'ab{2,3}?'\n",
        "        if re.search(patterns,  text):\n",
        "                return 'Found a match!'\n",
        "        else:\n",
        "                return('Not matched!')\n",
        "\n",
        "print(text_match(\"ab\"))\n",
        "print(text_match(\"aabbbbbc\"))"
      ],
      "metadata": {
        "trusted": true,
        "colab": {
          "base_uri": "https://localhost:8080/"
        },
        "id": "Xzcv3CVSKRCC",
        "outputId": "b2aeca07-c25e-445d-97bc-1adc2142538f"
      },
      "execution_count": null,
      "outputs": [
        {
          "output_type": "stream",
          "name": "stdout",
          "text": [
            "Not matched!\n",
            "Found a match!\n"
          ]
        }
      ]
    },
    {
      "cell_type": "markdown",
      "source": [
        "7) Write a Python program to find sequences of lowercase letters joined with a underscore."
      ],
      "metadata": {
        "id": "FFBhc-qpKRCD"
      }
    },
    {
      "cell_type": "code",
      "source": [
        "# Your code here"
      ],
      "metadata": {
        "trusted": true,
        "id": "UAUjSn97KRCD"
      },
      "execution_count": null,
      "outputs": []
    },
    {
      "cell_type": "code",
      "source": [
        "# Solution\n",
        "def text_match(text):\n",
        "        patterns = '^[a-z]+_[a-z]+$'\n",
        "        if re.search(patterns,  text):\n",
        "                return 'Found a match!'\n",
        "        else:\n",
        "                return('Not matched!')\n",
        "\n",
        "print(text_match(\"aab_cbbbc\"))\n",
        "print(text_match(\"aab_Abbbc\"))\n",
        "print(text_match(\"Aaab_abbbc\"))"
      ],
      "metadata": {
        "trusted": true,
        "colab": {
          "base_uri": "https://localhost:8080/"
        },
        "id": "w5FnDAMcKRCD",
        "outputId": "369b8264-fc23-47a8-a2b4-ffc3e44c7f9b"
      },
      "execution_count": null,
      "outputs": [
        {
          "output_type": "stream",
          "name": "stdout",
          "text": [
            "Found a match!\n",
            "Not matched!\n",
            "Not matched!\n"
          ]
        }
      ]
    },
    {
      "cell_type": "markdown",
      "source": [
        "8) Write a Python program to find the sequences of one upper case letter followed by lower case letters."
      ],
      "metadata": {
        "id": "0NfSS9nxKRCE"
      }
    },
    {
      "cell_type": "code",
      "source": [
        "# Your code here"
      ],
      "metadata": {
        "trusted": true,
        "id": "onzH5DbZKRCF"
      },
      "execution_count": null,
      "outputs": []
    },
    {
      "cell_type": "code",
      "source": [
        "# Solution\n",
        "def text_match(text):\n",
        "        patterns = '^[a-z]+_[a-z]+$'\n",
        "        if not re.search(patterns,  text):\n",
        "                return 'Found a match!'\n",
        "        else:\n",
        "                return('Not matched!')\n",
        "\n",
        "print(text_match(\"aab_cbbbc\"))\n",
        "print(text_match(\"aab_Abbbc\"))\n",
        "print(text_match(\"Aaab_abbbc\"))"
      ],
      "metadata": {
        "trusted": true,
        "colab": {
          "base_uri": "https://localhost:8080/"
        },
        "id": "nuJLmAK_KRCF",
        "outputId": "5dc297c5-4b77-4d81-c752-ebcd96b1078c"
      },
      "execution_count": null,
      "outputs": [
        {
          "output_type": "stream",
          "name": "stdout",
          "text": [
            "Not matched!\n",
            "Found a match!\n",
            "Found a match!\n"
          ]
        }
      ]
    },
    {
      "cell_type": "markdown",
      "source": [
        "9) Write a Python program that matches a string that has an 'a' followed by anything, ending in 'b'."
      ],
      "metadata": {
        "id": "8LM645JvKRCG"
      }
    },
    {
      "cell_type": "code",
      "source": [
        "# Your code here"
      ],
      "metadata": {
        "trusted": true,
        "id": "g6ojm1eFKRCG"
      },
      "execution_count": null,
      "outputs": []
    },
    {
      "cell_type": "code",
      "source": [
        "# Solution\n",
        "def text_match(text):\n",
        "        patterns = 'a.*?b$'\n",
        "        if re.search(patterns,  text):\n",
        "                return 'Found a match!'\n",
        "        else:\n",
        "                return('Not matched!')\n",
        "\n",
        "print(text_match(\"aabbbbd\"))\n",
        "print(text_match(\"aabAbbbc\"))\n",
        "print(text_match(\"accddbbjjjb\"))"
      ],
      "metadata": {
        "trusted": true,
        "colab": {
          "base_uri": "https://localhost:8080/"
        },
        "id": "AX4oa6cLKRCG",
        "outputId": "671a573e-6b21-4114-d40c-7d1b9644bb0a"
      },
      "execution_count": null,
      "outputs": [
        {
          "output_type": "stream",
          "name": "stdout",
          "text": [
            "Not matched!\n",
            "Not matched!\n",
            "Found a match!\n"
          ]
        }
      ]
    },
    {
      "cell_type": "markdown",
      "source": [
        "10) Write a Python program that matches a word at the beginning of a string."
      ],
      "metadata": {
        "id": "MnNW_amuKRCH"
      }
    },
    {
      "cell_type": "code",
      "source": [
        "# Your code here"
      ],
      "metadata": {
        "trusted": true,
        "id": "5evpmTICKRCH"
      },
      "execution_count": null,
      "outputs": []
    },
    {
      "cell_type": "code",
      "source": [
        "# Solution\n",
        "def text_match(text):\n",
        "        patterns = '^\\w+'\n",
        "        if re.search(patterns,  text):\n",
        "                return 'Found a match!'\n",
        "        else:\n",
        "                return('Not matched!')\n",
        "\n",
        "print(text_match(\"The quick brown fox jumps over the lazy dog.\"))\n",
        "print(text_match(\" The quick brown fox jumps over the lazy dog.\"))"
      ],
      "metadata": {
        "trusted": true,
        "colab": {
          "base_uri": "https://localhost:8080/"
        },
        "id": "hbJtLTzlKRCH",
        "outputId": "94d5fc5a-09f8-41cb-efe7-45e1e83d1704"
      },
      "execution_count": null,
      "outputs": [
        {
          "output_type": "stream",
          "name": "stdout",
          "text": [
            "Found a match!\n",
            "Not matched!\n"
          ]
        }
      ]
    },
    {
      "cell_type": "markdown",
      "source": [
        "11) Write a Python program that matches a word at the end of string, with optional punctuation."
      ],
      "metadata": {
        "id": "giNGjLR8KRCI"
      }
    },
    {
      "cell_type": "code",
      "source": [
        "# Your code here"
      ],
      "metadata": {
        "trusted": true,
        "id": "XDavSH2FKRCI"
      },
      "execution_count": null,
      "outputs": []
    },
    {
      "cell_type": "code",
      "source": [
        "# Solution\n",
        "def text_match(text):\n",
        "        patterns = '\\w+\\S*$'\n",
        "        if re.search(patterns,  text):\n",
        "                return 'Found a match!'\n",
        "        else:\n",
        "                return('Not matched!')\n",
        "\n",
        "print(text_match(\"The quick brown fox jumps over the lazy dog.\"))\n",
        "print(text_match(\"The quick brown fox jumps over the lazy dog. \"))\n",
        "print(text_match(\"The quick brown fox jumps over the lazy dog \"))"
      ],
      "metadata": {
        "trusted": true,
        "colab": {
          "base_uri": "https://localhost:8080/"
        },
        "id": "QAfWQN2GKRCI",
        "outputId": "a39ca34f-dcc6-4da8-d683-9a63ca6f46b9"
      },
      "execution_count": null,
      "outputs": [
        {
          "output_type": "stream",
          "name": "stdout",
          "text": [
            "Found a match!\n",
            "Not matched!\n",
            "Not matched!\n"
          ]
        }
      ]
    },
    {
      "cell_type": "markdown",
      "source": [
        "12) Write a Python program that matches a word containing 'z'"
      ],
      "metadata": {
        "id": "wAlC7619KRCJ"
      }
    },
    {
      "cell_type": "code",
      "source": [
        "# Your code here"
      ],
      "metadata": {
        "trusted": true,
        "id": "CA4v-WjJKRCJ"
      },
      "execution_count": null,
      "outputs": []
    },
    {
      "cell_type": "code",
      "source": [
        "# Solution\n",
        "def text_match(text):\n",
        "        patterns = '\\w*z.\\w*'\n",
        "        if re.search(patterns,  text):\n",
        "                return 'Found a match!'\n",
        "        else:\n",
        "                return('Not matched!')\n",
        "\n",
        "print(text_match(\"The quick brown fox jumps over the lazy dog.\"))\n",
        "print(text_match(\"Python Exercises.\"))"
      ],
      "metadata": {
        "trusted": true,
        "colab": {
          "base_uri": "https://localhost:8080/"
        },
        "id": "6njrkUKyKRCK",
        "outputId": "f7cd0369-d1bd-4332-ea70-58e73c118574"
      },
      "execution_count": null,
      "outputs": [
        {
          "output_type": "stream",
          "name": "stdout",
          "text": [
            "Found a match!\n",
            "Not matched!\n"
          ]
        }
      ]
    },
    {
      "cell_type": "markdown",
      "source": [
        "13) Write a Python program that matches a word containing 'z', not at the start or end of the word."
      ],
      "metadata": {
        "id": "wWKOWNVHKRCL"
      }
    },
    {
      "cell_type": "code",
      "source": [
        "# Your code here"
      ],
      "metadata": {
        "trusted": true,
        "id": "8rhCEtgoKRCL"
      },
      "execution_count": null,
      "outputs": []
    },
    {
      "cell_type": "code",
      "source": [
        "# Solution\n",
        "def text_match(text):\n",
        "        patterns = '\\Bz\\B'\n",
        "        if re.search(patterns,  text):\n",
        "                return 'Found a match!'\n",
        "        else:\n",
        "                return('Not matched!')\n",
        "\n",
        "print(text_match(\"The quick brown fox jumps over the lazy dog.\"))\n",
        "print(text_match(\"Python Exercises.\"))"
      ],
      "metadata": {
        "trusted": true,
        "colab": {
          "base_uri": "https://localhost:8080/"
        },
        "id": "eSWEQkWNKRCL",
        "outputId": "a72b4082-aa84-4324-c054-7fce4a92fcfe"
      },
      "execution_count": null,
      "outputs": [
        {
          "output_type": "stream",
          "name": "stdout",
          "text": [
            "Found a match!\n",
            "Not matched!\n"
          ]
        }
      ]
    },
    {
      "cell_type": "markdown",
      "source": [
        "14) Write a Python program to match a string that contains only upper and lowercase letters, numbers, and underscores."
      ],
      "metadata": {
        "id": "Eh2Ac--GKRCM"
      }
    },
    {
      "cell_type": "code",
      "source": [
        "# Your code here"
      ],
      "metadata": {
        "trusted": true,
        "id": "wwhDEoo4KRCM"
      },
      "execution_count": null,
      "outputs": []
    },
    {
      "cell_type": "code",
      "source": [
        "# Solution\n",
        "def text_match(text):\n",
        "        patterns = '^[a-zA-Z0-9_]*$'\n",
        "        if re.search(patterns,  text):\n",
        "                return 'Found a match!'\n",
        "        else:\n",
        "                return('Not matched!')\n",
        "\n",
        "print(text_match(\"The quick brown fox jumps over the lazy dog.\"))\n",
        "print(text_match(\"Python_Exercises_1\"))"
      ],
      "metadata": {
        "trusted": true,
        "colab": {
          "base_uri": "https://localhost:8080/"
        },
        "id": "8k9-KQmeKRCM",
        "outputId": "cfb1ce39-cf66-4739-bd41-a650e16327ff"
      },
      "execution_count": null,
      "outputs": [
        {
          "output_type": "stream",
          "name": "stdout",
          "text": [
            "Not matched!\n",
            "Found a match!\n"
          ]
        }
      ]
    },
    {
      "cell_type": "markdown",
      "source": [
        "15) Write a Python program where a string will start with a specific number. "
      ],
      "metadata": {
        "id": "kDG5e-YMKRCN"
      }
    },
    {
      "cell_type": "code",
      "source": [
        "# Your code here"
      ],
      "metadata": {
        "trusted": true,
        "id": "uJd0qG_9KRCN"
      },
      "execution_count": null,
      "outputs": []
    },
    {
      "cell_type": "code",
      "source": [
        "# Solution\n",
        "def match_num(string):\n",
        "    text = re.compile(r\"^5\")\n",
        "    if text.match(string):\n",
        "        return True\n",
        "    else:\n",
        "        return False\n",
        "print(match_num('5-2345861'))\n",
        "print(match_num('6-2345861'))"
      ],
      "metadata": {
        "trusted": true,
        "colab": {
          "base_uri": "https://localhost:8080/"
        },
        "id": "clbdd7Z1KRCN",
        "outputId": "fd52a83c-0f0c-477b-f9ca-4b99815d9289"
      },
      "execution_count": null,
      "outputs": [
        {
          "output_type": "stream",
          "name": "stdout",
          "text": [
            "True\n",
            "False\n"
          ]
        }
      ]
    },
    {
      "cell_type": "markdown",
      "source": [
        "16) Write a Python program to remove leading zeros from an IP address"
      ],
      "metadata": {
        "id": "jrZaQhU-KRCO"
      }
    },
    {
      "cell_type": "code",
      "source": [
        "# Your code here"
      ],
      "metadata": {
        "trusted": true,
        "id": "Ovj_XkGfKRCO"
      },
      "execution_count": null,
      "outputs": []
    },
    {
      "cell_type": "code",
      "source": [
        "# Solution\n",
        "ip = \"216.08.094.196\"\n",
        "string = re.sub('\\.[0]*', '.', ip)\n",
        "print(string)"
      ],
      "metadata": {
        "trusted": true,
        "colab": {
          "base_uri": "https://localhost:8080/"
        },
        "id": "g9fHXl_3KRCO",
        "outputId": "55e94452-c76e-4524-d051-f6d08b29ffb8"
      },
      "execution_count": null,
      "outputs": [
        {
          "output_type": "stream",
          "name": "stdout",
          "text": [
            "216.8.94.196\n"
          ]
        }
      ]
    },
    {
      "cell_type": "markdown",
      "source": [
        "17) Write a Python program to check for a number at the end of a string."
      ],
      "metadata": {
        "id": "FyQkz7GMKRCP"
      }
    },
    {
      "cell_type": "code",
      "source": [
        "# Your code here"
      ],
      "metadata": {
        "trusted": true,
        "id": "0dLN9QnAKRCP"
      },
      "execution_count": null,
      "outputs": []
    },
    {
      "cell_type": "code",
      "source": [
        "# Solution\n",
        "def end_num(string):\n",
        "    text = re.compile(r\".*[0-9]$\")\n",
        "    if text.match(string):\n",
        "        return True\n",
        "    else:\n",
        "        return False\n",
        "\n",
        "print(end_num('abcdef'))\n",
        "print(end_num('abcdef6'))"
      ],
      "metadata": {
        "trusted": true,
        "colab": {
          "base_uri": "https://localhost:8080/"
        },
        "id": "F7FM4jX_KRCP",
        "outputId": "d675bb56-97c2-4723-8888-ff72eea2b572"
      },
      "execution_count": null,
      "outputs": [
        {
          "output_type": "stream",
          "name": "stdout",
          "text": [
            "False\n",
            "True\n"
          ]
        }
      ]
    },
    {
      "cell_type": "markdown",
      "source": [
        "18) Write a Python program to search the numbers (0-9) of length between 1 to 3 in a given string. "
      ],
      "metadata": {
        "id": "zOqXGaWrKRCQ"
      }
    },
    {
      "cell_type": "code",
      "source": [
        "# Your code here"
      ],
      "metadata": {
        "trusted": true,
        "id": "hAuhFt2IKRCQ"
      },
      "execution_count": null,
      "outputs": []
    },
    {
      "cell_type": "code",
      "source": [
        "# Solution\n",
        "results = re.finditer(r\"([0-9]{1,3})\", \"Exercises number 1, 12, 13, and 345 are important\")\n",
        "print(\"Number of length 1 to 3\")\n",
        "for n in results:\n",
        "     print(n.group(0))"
      ],
      "metadata": {
        "trusted": true,
        "colab": {
          "base_uri": "https://localhost:8080/"
        },
        "id": "fVu1XcvKKRCQ",
        "outputId": "78ab43c7-cb19-4d5e-8f9e-c28ee71fea38"
      },
      "execution_count": null,
      "outputs": [
        {
          "output_type": "stream",
          "name": "stdout",
          "text": [
            "Number of length 1 to 3\n",
            "1\n",
            "12\n",
            "13\n",
            "345\n"
          ]
        }
      ]
    },
    {
      "cell_type": "markdown",
      "source": [
        "19) Write a Python program to search some literals strings in a string. Go to the editor\n",
        "Sample text : 'The quick brown fox jumps over the lazy dog.'\n",
        "Searched words : 'fox', 'dog', 'horse'"
      ],
      "metadata": {
        "id": "43M5rZ__KRCR"
      }
    },
    {
      "cell_type": "code",
      "source": [
        "# Your code here"
      ],
      "metadata": {
        "trusted": true,
        "id": "1XweCUIlKRCR"
      },
      "execution_count": null,
      "outputs": []
    },
    {
      "cell_type": "code",
      "source": [
        "# Solution\n",
        "patterns = [ 'fox', 'dog', 'horse' ]\n",
        "text = 'The quick brown fox jumps over the lazy dog.'\n",
        "for pattern in patterns:\n",
        "    print('Searching for \"%s\" in \"%s\" ->' % (pattern, text),)\n",
        "    if re.search(pattern,  text):\n",
        "        print('Matched!')\n",
        "    else:\n",
        "        print('Not Matched!')"
      ],
      "metadata": {
        "trusted": true,
        "colab": {
          "base_uri": "https://localhost:8080/"
        },
        "id": "meevlWNZKRCR",
        "outputId": "f775c163-c75f-4b18-85f3-115b5bdb9822"
      },
      "execution_count": null,
      "outputs": [
        {
          "output_type": "stream",
          "name": "stdout",
          "text": [
            "Searching for \"fox\" in \"The quick brown fox jumps over the lazy dog.\" ->\n",
            "Matched!\n",
            "Searching for \"dog\" in \"The quick brown fox jumps over the lazy dog.\" ->\n",
            "Matched!\n",
            "Searching for \"horse\" in \"The quick brown fox jumps over the lazy dog.\" ->\n",
            "Not Matched!\n"
          ]
        }
      ]
    },
    {
      "cell_type": "markdown",
      "source": [
        "20) Write a Python program to search a literals string in a string and also find the location within the original string where the pattern occurs\n",
        "\n",
        "Sample text : 'The quick brown fox jumps over the lazy dog.'\n",
        "Searched words : 'fox'"
      ],
      "metadata": {
        "id": "Ueu-WQHhKRCS"
      }
    },
    {
      "cell_type": "code",
      "source": [
        "# Your code here"
      ],
      "metadata": {
        "trusted": true,
        "id": "w-7VwkZeKRCS"
      },
      "execution_count": null,
      "outputs": []
    },
    {
      "cell_type": "code",
      "source": [
        "# Solution\n",
        "pattern = 'fox'\n",
        "text = 'The quick brown fox jumps over the lazy dog.'\n",
        "match = re.search(pattern, text)\n",
        "s = match.start()\n",
        "e = match.end()\n",
        "print('Found \"%s\" in \"%s\" from %d to %d ' % (match.re.pattern, match.string, s, e))"
      ],
      "metadata": {
        "trusted": true,
        "colab": {
          "base_uri": "https://localhost:8080/"
        },
        "id": "23rkvY55KRCS",
        "outputId": "17a23fc3-6251-44a2-a8d6-423eee9303ea"
      },
      "execution_count": null,
      "outputs": [
        {
          "output_type": "stream",
          "name": "stdout",
          "text": [
            "Found \"fox\" in \"The quick brown fox jumps over the lazy dog.\" from 16 to 19 \n"
          ]
        }
      ]
    },
    {
      "cell_type": "markdown",
      "source": [
        "21) Write a Python program to find the substrings within a string.\n",
        "\n",
        "Sample text :\n",
        "\n",
        "'Python exercises, PHP exercises, C# exercises'\n",
        "\n",
        "Pattern :\n",
        "\n",
        "'exercises'\n",
        "\n",
        "Note: There are two instances of exercises in the input string."
      ],
      "metadata": {
        "id": "ogpHSZZyKRCT"
      }
    },
    {
      "cell_type": "code",
      "source": [
        "# Your code here"
      ],
      "metadata": {
        "trusted": true,
        "id": "ZdWADE5jKRCT"
      },
      "execution_count": null,
      "outputs": []
    },
    {
      "cell_type": "code",
      "source": [
        "# Solution\n",
        "text = 'Python exercises, PHP exercises, C# exercises'\n",
        "pattern = 'exercises'\n",
        "for match in re.findall(pattern, text):\n",
        "    print('Found \"%s\"' % match)"
      ],
      "metadata": {
        "trusted": true,
        "colab": {
          "base_uri": "https://localhost:8080/"
        },
        "id": "8mPWXMutKRCU",
        "outputId": "ba2e4343-627e-4ac4-baa9-d2e35c569fc3"
      },
      "execution_count": null,
      "outputs": [
        {
          "output_type": "stream",
          "name": "stdout",
          "text": [
            "Found \"exercises\"\n",
            "Found \"exercises\"\n",
            "Found \"exercises\"\n"
          ]
        }
      ]
    },
    {
      "cell_type": "markdown",
      "source": [
        "22) Write a Python program to find the occurrence and position of the substrings within a string."
      ],
      "metadata": {
        "id": "7nqK4EPcKRCU"
      }
    },
    {
      "cell_type": "code",
      "source": [
        "# Your code here"
      ],
      "metadata": {
        "trusted": true,
        "id": "qBgKC7BOKRCU"
      },
      "execution_count": null,
      "outputs": []
    },
    {
      "cell_type": "code",
      "source": [
        "# Solution\n",
        "text = 'Python exercises, PHP exercises, C# exercises'\n",
        "pattern = 'exercises'\n",
        "for match in re.finditer(pattern, text):\n",
        "    s = match.start()\n",
        "    e = match.end()\n",
        "    print('Found \"%s\" at %d:%d' % (text[s:e], s, e))"
      ],
      "metadata": {
        "trusted": true,
        "colab": {
          "base_uri": "https://localhost:8080/"
        },
        "id": "GxieGf1JKRCV",
        "outputId": "c3d4a22e-6e60-4163-81a5-6ed1f61dd9e1"
      },
      "execution_count": null,
      "outputs": [
        {
          "output_type": "stream",
          "name": "stdout",
          "text": [
            "Found \"exercises\" at 7:16\n",
            "Found \"exercises\" at 22:31\n",
            "Found \"exercises\" at 36:45\n"
          ]
        }
      ]
    },
    {
      "cell_type": "markdown",
      "source": [
        "23) Write a Python program to replace whitespaces with an underscore and vice versa."
      ],
      "metadata": {
        "id": "bgeBQYxcKRCV"
      }
    },
    {
      "cell_type": "code",
      "source": [
        "# Your code here"
      ],
      "metadata": {
        "trusted": true,
        "id": "kpNDA3HaKRCV"
      },
      "execution_count": null,
      "outputs": []
    },
    {
      "cell_type": "code",
      "source": [
        "# Solution\n",
        "text = 'Python Exercises'\n",
        "text =text.replace (\" \", \"_\")\n",
        "print(text)\n",
        "text =text.replace (\"_\", \" \")\n",
        "print(text)"
      ],
      "metadata": {
        "trusted": true,
        "colab": {
          "base_uri": "https://localhost:8080/"
        },
        "id": "up4f9xIWKRCV",
        "outputId": "d82be8de-0060-4080-c0da-f0846eb2d838"
      },
      "execution_count": null,
      "outputs": [
        {
          "output_type": "stream",
          "name": "stdout",
          "text": [
            "Python_Exercises\n",
            "Python Exercises\n"
          ]
        }
      ]
    },
    {
      "cell_type": "markdown",
      "source": [
        "24) Write a Python program to extract year, month and date from a an url. "
      ],
      "metadata": {
        "id": "FRZX-BgWKRCW"
      }
    },
    {
      "cell_type": "code",
      "source": [
        "# Your code here"
      ],
      "metadata": {
        "trusted": true,
        "id": "q6eomrloKRCW"
      },
      "execution_count": null,
      "outputs": []
    },
    {
      "cell_type": "code",
      "source": [
        "# Solution\n",
        "def extract_date(url):\n",
        "        return re.findall(r'/(\\d{4})/(\\d{1,2})/(\\d{1,2})/', url)\n",
        "url1= \"https://www.washingtonpost.com/news/football-insider/wp/2016/09/02/odell-beckhams-fame-rests-on-one-stupid-little-ball-josh-norman-tells-author/\"\n",
        "print(extract_date(url1))"
      ],
      "metadata": {
        "trusted": true,
        "colab": {
          "base_uri": "https://localhost:8080/"
        },
        "id": "VGl4xTs5KRCW",
        "outputId": "bc5a52cd-8b6e-4550-929b-ced74ff1b59f"
      },
      "execution_count": null,
      "outputs": [
        {
          "output_type": "stream",
          "name": "stdout",
          "text": [
            "[('2016', '09', '02')]\n"
          ]
        }
      ]
    },
    {
      "cell_type": "markdown",
      "source": [
        "25) Write a Python program to convert a date of yyyy-mm-dd format to dd-mm-yyyy format."
      ],
      "metadata": {
        "id": "RQoBc7alKRCW"
      }
    },
    {
      "cell_type": "code",
      "source": [
        "# Your code here"
      ],
      "metadata": {
        "trusted": true,
        "id": "7O6_y-zdKRCX"
      },
      "execution_count": null,
      "outputs": []
    },
    {
      "cell_type": "code",
      "source": [
        "# Solution\n",
        "def change_date_format(dt):\n",
        "        return re.sub(r'(\\d{4})-(\\d{1,2})-(\\d{1,2})', '\\\\3-\\\\2-\\\\1', dt)\n",
        "dt1 = \"2026-01-02\"\n",
        "print(\"Original date in YYY-MM-DD Format: \",dt1)\n",
        "print(\"New date in DD-MM-YYYY Format: \",change_date_format(dt1))"
      ],
      "metadata": {
        "trusted": true,
        "colab": {
          "base_uri": "https://localhost:8080/"
        },
        "id": "mN2NUuWJKRCX",
        "outputId": "8cfbbf4f-e9d3-4c95-e0ed-091219c6e1cf"
      },
      "execution_count": null,
      "outputs": [
        {
          "output_type": "stream",
          "name": "stdout",
          "text": [
            "Original date in YYY-MM-DD Format:  2026-01-02\n",
            "New date in DD-MM-YYYY Format:  02-01-2026\n"
          ]
        }
      ]
    },
    {
      "cell_type": "markdown",
      "source": [
        "26) Write a Python program to match if two words from a list of words starting with letter 'P'."
      ],
      "metadata": {
        "id": "oaqgfVhWKRCX"
      }
    },
    {
      "cell_type": "code",
      "source": [
        "# Your code here"
      ],
      "metadata": {
        "trusted": true,
        "id": "SkV9dBRxKRCX"
      },
      "execution_count": null,
      "outputs": []
    },
    {
      "cell_type": "code",
      "source": [
        "# Solution\n",
        "def change_date_format(dt):\n",
        "        return re.sub(r'(\\d{4})-(\\d{1,2})-(\\d{1,2})', '\\\\3-\\\\2-\\\\1', dt)\n",
        "dt1 = \"2026-01-02\"\n",
        "print(\"Original date in YYY-MM-DD Format: \",dt1)\n",
        "print(\"New date in DD-MM-YYYY Format: \",change_date_format(dt1))"
      ],
      "metadata": {
        "trusted": true,
        "colab": {
          "base_uri": "https://localhost:8080/"
        },
        "id": "6B-S1FIdKRCY",
        "outputId": "7bcdc8df-8f41-4c1a-8921-35085de5dc5e"
      },
      "execution_count": null,
      "outputs": [
        {
          "output_type": "stream",
          "name": "stdout",
          "text": [
            "Original date in YYY-MM-DD Format:  2026-01-02\n",
            "New date in DD-MM-YYYY Format:  02-01-2026\n"
          ]
        }
      ]
    },
    {
      "cell_type": "markdown",
      "source": [
        "27) Write a Python program to separate and print the numbers of a given string."
      ],
      "metadata": {
        "id": "7qLAdBAVKRCY"
      }
    },
    {
      "cell_type": "code",
      "source": [
        "# Your code here"
      ],
      "metadata": {
        "trusted": true,
        "id": "F9VyoiudKRCY"
      },
      "execution_count": null,
      "outputs": []
    },
    {
      "cell_type": "code",
      "source": [
        "# Solution\n",
        "# Sample string.\n",
        "text = \"Ten 10, Twenty 20, Thirty 30\"\n",
        "result = re.split(\"\\D+\", text)\n",
        "# Print results.\n",
        "for element in result:\n",
        "    print(element)"
      ],
      "metadata": {
        "trusted": true,
        "colab": {
          "base_uri": "https://localhost:8080/"
        },
        "id": "CJne-s0uKRCY",
        "outputId": "47ba1592-d17c-4d5d-b20a-04974f796c28"
      },
      "execution_count": null,
      "outputs": [
        {
          "output_type": "stream",
          "name": "stdout",
          "text": [
            "\n",
            "10\n",
            "20\n",
            "30\n"
          ]
        }
      ]
    },
    {
      "cell_type": "markdown",
      "source": [
        "28) Write a Python program to find all words starting with 'a' or 'e' in a given string."
      ],
      "metadata": {
        "id": "LpoFxw_IKRCZ"
      }
    },
    {
      "cell_type": "code",
      "source": [
        "# Your code here"
      ],
      "metadata": {
        "trusted": true,
        "id": "h46E5JzFKRCZ"
      },
      "execution_count": null,
      "outputs": []
    },
    {
      "cell_type": "code",
      "source": [
        "# Solution\n",
        "# Input.\n",
        "text = \"The following example creates an ArrayList with a capacity of 50 elements. Four elements are then added to the ArrayList and the ArrayList is trimmed accordingly.\"\n",
        "#find all the words starting with 'a' or 'e'\n",
        "list = re.findall(\"[ae]\\w+\", text)\n",
        "# Print result.\n",
        "print(list)\n",
        "\t"
      ],
      "metadata": {
        "trusted": true,
        "colab": {
          "base_uri": "https://localhost:8080/"
        },
        "id": "MlS6n8NsKRCZ",
        "outputId": "9f2f2bf2-39d1-4414-a0d9-f7cf17a791ce"
      },
      "execution_count": null,
      "outputs": [
        {
          "output_type": "stream",
          "name": "stdout",
          "text": [
            "['example', 'eates', 'an', 'ayList', 'apacity', 'elements', 'elements', 'are', 'en', 'added', 'ayList', 'and', 'ayList', 'ed', 'accordingly']\n"
          ]
        }
      ]
    },
    {
      "cell_type": "markdown",
      "source": [
        "29) Write a Python program to separate and print the numbers and their position of a given string."
      ],
      "metadata": {
        "id": "arQ34NPXKRCZ"
      }
    },
    {
      "cell_type": "code",
      "source": [
        "# Your code here"
      ],
      "metadata": {
        "trusted": true,
        "id": "7AmT-M-VKRCa"
      },
      "execution_count": null,
      "outputs": []
    },
    {
      "cell_type": "code",
      "source": [
        "# Solution\n",
        "# Input.\n",
        "text = \"The following example creates an ArrayList with a capacity of 50 elements. Four elements are then added to the ArrayList and the ArrayList is trimmed accordingly.\"\n",
        "\n",
        "for m in re.finditer(\"\\d+\", text):\n",
        "    print(m.group(0))\n",
        "    print(\"Index position:\", m.start())\n",
        "\t"
      ],
      "metadata": {
        "trusted": true,
        "colab": {
          "base_uri": "https://localhost:8080/"
        },
        "id": "n0hqRYk_KRCa",
        "outputId": "3c989eb1-aad3-4057-be46-73b733f58c79"
      },
      "execution_count": null,
      "outputs": [
        {
          "output_type": "stream",
          "name": "stdout",
          "text": [
            "50\n",
            "Index position: 62\n"
          ]
        }
      ]
    },
    {
      "cell_type": "markdown",
      "source": [
        "30) Write a Python program to abbreviate 'Road' as 'Rd.' in a given string."
      ],
      "metadata": {
        "id": "9lMYlYg_KRCa"
      }
    },
    {
      "cell_type": "code",
      "source": [
        "# Your code here"
      ],
      "metadata": {
        "trusted": true,
        "id": "20D6HQs8KRCb"
      },
      "execution_count": null,
      "outputs": []
    },
    {
      "cell_type": "code",
      "source": [
        "# Solution\n",
        "street = '21 Ramkrishna Road'\n",
        "print(re.sub('Road$', 'Rd.', street))"
      ],
      "metadata": {
        "trusted": true,
        "colab": {
          "base_uri": "https://localhost:8080/"
        },
        "id": "mnUkFe-UKRCb",
        "outputId": "e4fc75f8-23ba-46cd-f2ed-d844184ee0b1"
      },
      "execution_count": null,
      "outputs": [
        {
          "output_type": "stream",
          "name": "stdout",
          "text": [
            "21 Ramkrishna Rd.\n"
          ]
        }
      ]
    }
  ]
}