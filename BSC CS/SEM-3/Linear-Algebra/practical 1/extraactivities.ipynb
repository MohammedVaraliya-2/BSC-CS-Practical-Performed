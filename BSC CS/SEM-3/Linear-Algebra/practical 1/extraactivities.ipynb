{
  "nbformat": 4,
  "nbformat_minor": 0,
  "metadata": {
    "colab": {
      "name": "extraactivities.ipynb",
      "provenance": []
    },
    "kernelspec": {
      "name": "python3",
      "display_name": "Python 3"
    },
    "language_info": {
      "name": "python"
    }
  },
  "cells": [
    {
      "cell_type": "markdown",
      "source": [
        "**Extra Activities Practical-1**"
      ],
      "metadata": {
        "id": "XfoAqMnUsQec"
      }
    },
    {
      "cell_type": "markdown",
      "source": [
        "1. (1+3j) + (10+20j)"
      ],
      "metadata": {
        "id": "ysEmmnC0rWRn"
      }
    },
    {
      "cell_type": "code",
      "source": [
        "a = 1+3j\n",
        "b = (10+20j)\n",
        "print (\"Addition of two complex number is :\", a+b)"
      ],
      "metadata": {
        "colab": {
          "base_uri": "https://localhost:8080/"
        },
        "id": "KaIxXLfsrhAU",
        "outputId": "b9d56daa-ecae-41c7-d8dd-1a39066f7aaa"
      },
      "execution_count": null,
      "outputs": [
        {
          "output_type": "stream",
          "name": "stdout",
          "text": [
            "Addition of two complex number is : (11+23j)\n"
          ]
        }
      ]
    },
    {
      "cell_type": "markdown",
      "source": [
        "2. If x=1+3j then find (x-1)**2"
      ],
      "metadata": {
        "id": "q3uM01-Urt_g"
      }
    },
    {
      "cell_type": "code",
      "source": [
        "x = 1+3j\n",
        "y = (x-1)**2\n",
        "print (y)"
      ],
      "metadata": {
        "colab": {
          "base_uri": "https://localhost:8080/"
        },
        "id": "17LYtAAbruf_",
        "outputId": "a2418a1b-4cf5-4a23-9597-e6d53c5782e5"
      },
      "execution_count": null,
      "outputs": [
        {
          "output_type": "stream",
          "name": "stdout",
          "text": [
            "(-9+0j)\n"
          ]
        }
      ]
    },
    {
      "cell_type": "markdown",
      "source": [
        "3. 1+2j*3"
      ],
      "metadata": {
        "id": "3Vy2OzGQrzSk"
      }
    },
    {
      "cell_type": "code",
      "source": [
        "x = 1+2j*3\n",
        "print(x)"
      ],
      "metadata": {
        "colab": {
          "base_uri": "https://localhost:8080/"
        },
        "id": "q8TgBWe9r0Qo",
        "outputId": "c2cf44f5-0f3d-46b2-adb8-20b9fb1f114b"
      },
      "execution_count": null,
      "outputs": [
        {
          "output_type": "stream",
          "name": "stdout",
          "text": [
            "(1+6j)\n"
          ]
        }
      ]
    },
    {
      "cell_type": "markdown",
      "source": [
        "4. 4*3j**2"
      ],
      "metadata": {
        "id": "o1cSOFvcr5T7"
      }
    },
    {
      "cell_type": "code",
      "source": [
        "x = 4*3j**2\n",
        "print(x)"
      ],
      "metadata": {
        "colab": {
          "base_uri": "https://localhost:8080/"
        },
        "id": "uRIUvSwcr6Nq",
        "outputId": "591232cb-e55e-49bb-9a28-867e1df3d33e"
      },
      "execution_count": null,
      "outputs": [
        {
          "output_type": "stream",
          "name": "stdout",
          "text": [
            "(-36+0j)\n"
          ]
        }
      ]
    },
    {
      "cell_type": "markdown",
      "source": [
        "5. If x=1+3j the find x.real & x.imag"
      ],
      "metadata": {
        "id": "LXLTQjXKr8-J"
      }
    },
    {
      "cell_type": "code",
      "source": [
        "x = 1+3j\n",
        "print(x.real)\n",
        "print(x.imag)"
      ],
      "metadata": {
        "colab": {
          "base_uri": "https://localhost:8080/"
        },
        "id": "Tbp-0PKLr_1p",
        "outputId": "5e337bc3-a980-451c-9c3b-38203d147454"
      },
      "execution_count": null,
      "outputs": [
        {
          "output_type": "stream",
          "name": "stdout",
          "text": [
            "1.0\n",
            "3.0\n"
          ]
        }
      ]
    },
    {
      "cell_type": "markdown",
      "source": [
        "6. If x=1+3j the find x.conjugate"
      ],
      "metadata": {
        "id": "8h1aPfD3sEnh"
      }
    },
    {
      "cell_type": "code",
      "source": [
        "x = 1+3j\n",
        "print(x.conjugate())"
      ],
      "metadata": {
        "colab": {
          "base_uri": "https://localhost:8080/"
        },
        "id": "A4H4MtSRsFkh",
        "outputId": "7ac14257-37f0-4211-d8c3-6ab8b727f6dc"
      },
      "execution_count": null,
      "outputs": [
        {
          "output_type": "stream",
          "name": "stdout",
          "text": [
            "(1-3j)\n"
          ]
        }
      ]
    },
    {
      "cell_type": "markdown",
      "source": [
        "7. Plot S = {3+3i, 4+3i, 2+i, 2.5+i, 3+i, 3.25+i}"
      ],
      "metadata": {
        "id": "yiKV--bFsIsz"
      }
    },
    {
      "cell_type": "code",
      "source": [
        "import matplotlib.pyplot as plot\n",
        "x = 2+2j\n",
        "S = [3+3j, 4+3j, 2+1j, 2.5+1j, 3+1j, 3.25+1j]\n",
        "X = [x.real for x in S]\n",
        "Y = [x.imag for x in S]\n",
        "plot.scatter(X,Y, color=\"purple\")\n",
        "plot.show()"
      ],
      "metadata": {
        "colab": {
          "base_uri": "https://localhost:8080/",
          "height": 265
        },
        "id": "k02MycTlsKj4",
        "outputId": "c20d6fb6-5ed6-48aa-db3e-df9e9a1d8f04"
      },
      "execution_count": null,
      "outputs": [
        {
          "output_type": "display_data",
          "data": {
            "text/plain": [
              "<Figure size 432x288 with 1 Axes>"
            ],
            "image/png": "[encoded data removed]"
          },
          "metadata": {
            "needs_background": "light"
          }
        }
      ]
    },
    {
      "cell_type": "markdown",
      "source": [],
      "metadata": {
        "id": "CljUleLOrPo7"
      }
    }
  ]
}