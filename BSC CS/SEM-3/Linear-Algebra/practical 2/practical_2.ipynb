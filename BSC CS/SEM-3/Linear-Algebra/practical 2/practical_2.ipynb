{
  "nbformat": 4,
  "nbformat_minor": 0,
  "metadata": {
    "colab": {
      "name": "practical-2.ipynb",
      "provenance": []
    },
    "kernelspec": {
      "name": "python3",
      "display_name": "Python 3"
    },
    "language_info": {
      "name": "python"
    }
  },
  "cells": [
    {
      "cell_type": "markdown",
      "source": [
        "**Linear Algebra Practical-2**"
      ],
      "metadata": {
        "id": "9bx9v6GlxVRz"
      }
    },
    {
      "cell_type": "markdown",
      "source": [
        "1. Addition, subtraction and mutiplication of Two Matrix"
      ],
      "metadata": {
        "id": "N3K0ditTxN9u"
      }
    },
    {
      "cell_type": "code",
      "source": [
        "import numpy as np\n",
        "\n",
        "# Addition, subtraction and mutiplication of Two Matrix\n",
        "a = np.array([[1,2], [3,4]])\n",
        "b = np.array([[5,6], [7,8]])\n",
        "print(\"The Matrix a is :\")\n",
        "print(a)\n",
        "print(\"The Matrix b is :\")\n",
        "print(b)\n",
        "\n",
        "print(\"Addition of two matrix a and b is : \")\n",
        "print(a+b)\n",
        "\n",
        "print(\"Subtraction of two matrix a and b is : \")\n",
        "print(a-b)\n",
        "\n",
        "print(\"Multiplication of two matrix a and b is : \")\n",
        "print(a*b)"
      ],
      "metadata": {
        "colab": {
          "base_uri": "https://localhost:8080/"
        },
        "id": "MQtrLf7yxf4m",
        "outputId": "0e9e6ea4-ed73-4e23-d20f-173dffe4d295"
      },
      "execution_count": 1,
      "outputs": [
        {
          "output_type": "stream",
          "name": "stdout",
          "text": [
            "The Matrix a is :\n",
            "[[1 2]\n",
            " [3 4]]\n",
            "The Matrix b is :\n",
            "[[5 6]\n",
            " [7 8]]\n",
            "Addition of two matrix a and b is : \n",
            "[[ 6  8]\n",
            " [10 12]]\n",
            "Subtraction of two matrix a and b is : \n",
            "[[-4 -4]\n",
            " [-4 -4]]\n",
            "Multiplication of two matrix a and b is : \n",
            "[[ 5 12]\n",
            " [21 32]]\n"
          ]
        }
      ]
    },
    {
      "cell_type": "markdown",
      "source": [
        "2. Check if matrix is invertible."
      ],
      "metadata": {
        "id": "GxuBt9bUxssE"
      }
    },
    {
      "cell_type": "code",
      "source": [
        "import numpy as np\n",
        "\n",
        "matrix = np.array([[5,7], [2,3]])\n",
        "\n",
        "print(\"Matrix M = \")\n",
        "print(matrix)\n",
        "\n",
        "c = np.linalg.det(matrix)\n",
        "print(\"Determinant = \", c)\n",
        "\n",
        "if(c != 0):\n",
        "    i = np.linalg.inv(matrix)\n",
        "    print(\"Inverse of Matrix M = \")\n",
        "    print(i)\n",
        "else:\n",
        "    print(\"Matrix M is invertible\")"
      ],
      "metadata": {
        "colab": {
          "base_uri": "https://localhost:8080/"
        },
        "id": "Z3GrYVHsxwyF",
        "outputId": "539b284b-f253-47f7-a895-c24c9e95da07"
      },
      "execution_count": 3,
      "outputs": [
        {
          "output_type": "stream",
          "name": "stdout",
          "text": [
            "Matrix M = \n",
            "[[5 7]\n",
            " [2 3]]\n",
            "Determinant =  0.9999999999999987\n",
            "Inverse of Matrix M = \n",
            "[[ 3. -7.]\n",
            " [-2.  5.]]\n"
          ]
        }
      ]
    }
  ]
}