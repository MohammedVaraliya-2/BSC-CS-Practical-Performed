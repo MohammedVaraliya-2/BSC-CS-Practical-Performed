{
  "cells": [
    {
      "cell_type": "markdown",
      "id": "2bad0038",
      "metadata": {
        "id": "2bad0038"
      },
      "source": [
        "**Implement Hash Table**"
      ]
    },
    {
      "cell_type": "code",
      "execution_count": 1,
      "id": "53377534",
      "metadata": {
        "id": "53377534"
      },
      "outputs": [],
      "source": [
        "def get_hash(key):\n",
        "    hash = 0\n",
        "    for char in key:\n",
        "        hash += ord(char)\n",
        "    return hash % 100"
      ]
    },
    {
      "cell_type": "code",
      "execution_count": 2,
      "id": "2be861b5",
      "metadata": {
        "colab": {
          "base_uri": "https://localhost:8080/"
        },
        "id": "2be861b5",
        "outputId": "6af89c06-afa5-454f-c2ce-ea6f381afd98"
      },
      "outputs": [
        {
          "data": {
            "text/plain": [
              "9"
            ]
          },
          "execution_count": 2,
          "metadata": {},
          "output_type": "execute_result"
        }
      ],
      "source": [
        "get_hash('march 6')"
      ]
    },
    {
      "cell_type": "code",
      "execution_count": 3,
      "id": "472de24f",
      "metadata": {
        "id": "472de24f"
      },
      "outputs": [],
      "source": [
        "class HashTable:  \n",
        "    def __init__(self):\n",
        "        self.MAX = 100\n",
        "        self.arr = [None for i in range(self.MAX)]\n",
        "        \n",
        "    def get_hash(self, key):\n",
        "        hash = 0\n",
        "        for char in key:\n",
        "            hash += ord(char)\n",
        "        return hash % self.MAX\n",
        "    \n",
        "    def __getitem__(self, index):\n",
        "        h = self.get_hash(index)\n",
        "        return self.arr[h]\n",
        "    \n",
        "    def __setitem__(self, key, val):\n",
        "        h = self.get_hash(key)\n",
        "        self.arr[h] = val    \n",
        "        \n",
        "    def __delitem__(self, key):\n",
        "        h = self.get_hash(key)\n",
        "        self.arr[h] = None   "
      ]
    },
    {
      "cell_type": "code",
      "execution_count": 4,
      "id": "1f0863f3",
      "metadata": {
        "id": "1f0863f3"
      },
      "outputs": [],
      "source": [
        "t = HashTable()\n",
        "t[\"march 6\"] = 310\n",
        "t[\"march 7\"] = 420\n",
        "t['dec 20'] = 20"
      ]
    },
    {
      "cell_type": "code",
      "execution_count": 5,
      "id": "7d924d16",
      "metadata": {
        "colab": {
          "base_uri": "https://localhost:8080/"
        },
        "id": "7d924d16",
        "outputId": "c2956eab-7e68-4c89-f1a4-023d1f479187"
      },
      "outputs": [
        {
          "data": {
            "text/plain": [
              "[None,\n",
              " None,\n",
              " None,\n",
              " None,\n",
              " None,\n",
              " None,\n",
              " None,\n",
              " None,\n",
              " None,\n",
              " 310,\n",
              " 420,\n",
              " None,\n",
              " None,\n",
              " None,\n",
              " None,\n",
              " None,\n",
              " None,\n",
              " None,\n",
              " None,\n",
              " None,\n",
              " None,\n",
              " None,\n",
              " None,\n",
              " None,\n",
              " None,\n",
              " None,\n",
              " None,\n",
              " None,\n",
              " None,\n",
              " None,\n",
              " 20,\n",
              " None,\n",
              " None,\n",
              " None,\n",
              " None,\n",
              " None,\n",
              " None,\n",
              " None,\n",
              " None,\n",
              " None,\n",
              " None,\n",
              " None,\n",
              " None,\n",
              " None,\n",
              " None,\n",
              " None,\n",
              " None,\n",
              " None,\n",
              " None,\n",
              " None,\n",
              " None,\n",
              " None,\n",
              " None,\n",
              " None,\n",
              " None,\n",
              " None,\n",
              " None,\n",
              " None,\n",
              " None,\n",
              " None,\n",
              " None,\n",
              " None,\n",
              " None,\n",
              " None,\n",
              " None,\n",
              " None,\n",
              " None,\n",
              " None,\n",
              " None,\n",
              " None,\n",
              " None,\n",
              " None,\n",
              " None,\n",
              " None,\n",
              " None,\n",
              " None,\n",
              " None,\n",
              " None,\n",
              " None,\n",
              " None,\n",
              " None,\n",
              " None,\n",
              " None,\n",
              " None,\n",
              " None,\n",
              " None,\n",
              " None,\n",
              " None,\n",
              " None,\n",
              " None,\n",
              " None,\n",
              " None,\n",
              " None,\n",
              " None,\n",
              " None,\n",
              " None,\n",
              " None,\n",
              " None,\n",
              " None,\n",
              " None]"
            ]
          },
          "execution_count": 5,
          "metadata": {},
          "output_type": "execute_result"
        }
      ],
      "source": [
        "t.arr"
      ]
    },
    {
      "cell_type": "code",
      "execution_count": 6,
      "id": "d2bfac9d",
      "metadata": {
        "id": "d2bfac9d"
      },
      "outputs": [],
      "source": [
        "t[\"dec 30\"] = 88"
      ]
    },
    {
      "cell_type": "code",
      "execution_count": 7,
      "id": "f59ed5a2",
      "metadata": {
        "colab": {
          "base_uri": "https://localhost:8080/"
        },
        "id": "f59ed5a2",
        "outputId": "4660ca39-33e5-4f34-949d-875e1498672c"
      },
      "outputs": [
        {
          "data": {
            "text/plain": [
              "88"
            ]
          },
          "execution_count": 7,
          "metadata": {},
          "output_type": "execute_result"
        }
      ],
      "source": [
        "t[\"dec 30\"]"
      ]
    },
    {
      "cell_type": "code",
      "execution_count": 8,
      "id": "c5da5685",
      "metadata": {
        "id": "c5da5685"
      },
      "outputs": [],
      "source": [
        "del t[\"march 6\"]"
      ]
    },
    {
      "cell_type": "code",
      "execution_count": 9,
      "id": "ec7925ec",
      "metadata": {
        "colab": {
          "base_uri": "https://localhost:8080/"
        },
        "id": "ec7925ec",
        "outputId": "1029e33c-76ab-42bc-d8d9-4b7d967347b3"
      },
      "outputs": [
        {
          "data": {
            "text/plain": [
              "[None,\n",
              " None,\n",
              " None,\n",
              " None,\n",
              " None,\n",
              " None,\n",
              " None,\n",
              " None,\n",
              " None,\n",
              " None,\n",
              " 420,\n",
              " None,\n",
              " None,\n",
              " None,\n",
              " None,\n",
              " None,\n",
              " None,\n",
              " None,\n",
              " None,\n",
              " None,\n",
              " None,\n",
              " None,\n",
              " None,\n",
              " None,\n",
              " None,\n",
              " None,\n",
              " None,\n",
              " None,\n",
              " None,\n",
              " None,\n",
              " 20,\n",
              " 88,\n",
              " None,\n",
              " None,\n",
              " None,\n",
              " None,\n",
              " None,\n",
              " None,\n",
              " None,\n",
              " None,\n",
              " None,\n",
              " None,\n",
              " None,\n",
              " None,\n",
              " None,\n",
              " None,\n",
              " None,\n",
              " None,\n",
              " None,\n",
              " None,\n",
              " None,\n",
              " None,\n",
              " None,\n",
              " None,\n",
              " None,\n",
              " None,\n",
              " None,\n",
              " None,\n",
              " None,\n",
              " None,\n",
              " None,\n",
              " None,\n",
              " None,\n",
              " None,\n",
              " None,\n",
              " None,\n",
              " None,\n",
              " None,\n",
              " None,\n",
              " None,\n",
              " None,\n",
              " None,\n",
              " None,\n",
              " None,\n",
              " None,\n",
              " None,\n",
              " None,\n",
              " None,\n",
              " None,\n",
              " None,\n",
              " None,\n",
              " None,\n",
              " None,\n",
              " None,\n",
              " None,\n",
              " None,\n",
              " None,\n",
              " None,\n",
              " None,\n",
              " None,\n",
              " None,\n",
              " None,\n",
              " None,\n",
              " None,\n",
              " None,\n",
              " None,\n",
              " None,\n",
              " None,\n",
              " None,\n",
              " None]"
            ]
          },
          "execution_count": 9,
          "metadata": {},
          "output_type": "execute_result"
        }
      ],
      "source": [
        "t.arr"
      ]
    },
    {
      "cell_type": "code",
      "execution_count": 9,
      "id": "49bea7fc",
      "metadata": {
        "id": "49bea7fc"
      },
      "outputs": [],
      "source": []
    }
  ],
  "metadata": {
    "colab": {
      "provenance": []
    },
    "kernelspec": {
      "display_name": "Python 3.10.7 64-bit",
      "language": "python",
      "name": "python3"
    },
    "language_info": {
      "codemirror_mode": {
        "name": "ipython",
        "version": 3
      },
      "file_extension": ".py",
      "mimetype": "text/x-python",
      "name": "python",
      "nbconvert_exporter": "python",
      "pygments_lexer": "ipython3",
      "version": "3.10.7"
    },
    "vscode": {
      "interpreter": {
        "hash": "10e9aac84282539994078db1be2f537695a8865e78eb5e3c29f0b2ce90162212"
      }
    }
  },
  "nbformat": 4,
  "nbformat_minor": 5
}
