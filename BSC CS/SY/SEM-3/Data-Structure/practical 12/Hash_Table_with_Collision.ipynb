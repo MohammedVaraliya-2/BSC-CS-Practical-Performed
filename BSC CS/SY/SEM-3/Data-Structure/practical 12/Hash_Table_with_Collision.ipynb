{
  "cells": [
    {
      "cell_type": "code",
      "execution_count": 30,
      "id": "e376217a",
      "metadata": {
        "id": "e376217a"
      },
      "outputs": [],
      "source": [
        "class HashTable:  \n",
        "    def __init__(self):\n",
        "        self.MAX = 10\n",
        "        self.arr = [None for i in range(self.MAX)]\n",
        "        \n",
        "    def get_hash(self, key):\n",
        "        hash = 0\n",
        "        for char in key:\n",
        "            hash += ord(char)\n",
        "        return hash % self.MAX\n",
        "    \n",
        "    def __getitem__(self, index):\n",
        "        h = self.get_hash(index)\n",
        "        return self.arr[h]\n",
        "    \n",
        "    def __setitem__(self, key, val):\n",
        "        h = self.get_hash(key)\n",
        "        self.arr[h] = val  "
      ]
    },
    {
      "cell_type": "code",
      "execution_count": 31,
      "id": "452da1e5",
      "metadata": {
        "id": "452da1e5",
        "outputId": "f541d059-4349-4a9f-847d-23436e1d0ca5",
        "colab": {
          "base_uri": "https://localhost:8080/"
        }
      },
      "outputs": [
        {
          "output_type": "execute_result",
          "data": {
            "text/plain": [
              "9"
            ]
          },
          "metadata": {},
          "execution_count": 31
        }
      ],
      "source": [
        "t = HashTable()\n",
        "t.get_hash(\"march 6\")"
      ]
    },
    {
      "cell_type": "code",
      "execution_count": 32,
      "id": "8efadf05",
      "metadata": {
        "id": "8efadf05",
        "outputId": "8d8ea552-e056-48ae-fb5d-a6adafb3a04b",
        "colab": {
          "base_uri": "https://localhost:8080/"
        }
      },
      "outputs": [
        {
          "output_type": "execute_result",
          "data": {
            "text/plain": [
              "9"
            ]
          },
          "metadata": {},
          "execution_count": 32
        }
      ],
      "source": [
        "t.get_hash(\"march 17\")"
      ]
    },
    {
      "cell_type": "code",
      "execution_count": 33,
      "id": "b959405b",
      "metadata": {
        "id": "b959405b"
      },
      "outputs": [],
      "source": [
        "t[\"march 6\"] = 120\n",
        "t[\"march 8\"] = 67\n",
        "t[\"march 9\"] = 4\n",
        "t[\"march 17\"] = 459"
      ]
    },
    {
      "cell_type": "code",
      "execution_count": 34,
      "id": "1bd775a7",
      "metadata": {
        "id": "1bd775a7",
        "outputId": "66b6020e-0fd1-4a9b-a4b7-32d1800c55fe",
        "colab": {
          "base_uri": "https://localhost:8080/"
        }
      },
      "outputs": [
        {
          "output_type": "execute_result",
          "data": {
            "text/plain": [
              "459"
            ]
          },
          "metadata": {},
          "execution_count": 34
        }
      ],
      "source": [
        "t[\"march 6\"]"
      ]
    },
    {
      "cell_type": "markdown",
      "id": "1f17ce07",
      "metadata": {
        "id": "1f17ce07"
      },
      "source": [
        "# Hash Table Collision Handling Using Chaining"
      ]
    },
    {
      "cell_type": "code",
      "execution_count": 35,
      "id": "4bded72c",
      "metadata": {
        "id": "4bded72c"
      },
      "outputs": [],
      "source": [
        "class HashTable:  \n",
        "    def __init__(self):\n",
        "        self.MAX = 10\n",
        "        self.arr = [[] for i in range(self.MAX)]\n",
        "        \n",
        "    def get_hash(self, key):\n",
        "        hash = 0\n",
        "        for char in key:\n",
        "            hash += ord(char)\n",
        "        return hash % self.MAX\n",
        "    \n",
        "    def __getitem__(self, key):\n",
        "        arr_index = self.get_hash(key)\n",
        "        for kv in self.arr[arr_index]:\n",
        "            if kv[0] == key:\n",
        "                return kv[1]\n",
        "            \n",
        "    def __setitem__(self, key, val):\n",
        "        h = self.get_hash(key)\n",
        "        found = False\n",
        "        for idx, element in enumerate(self.arr[h]):\n",
        "            if len(element)==2 and element[0] == key:\n",
        "                self.arr[h][idx] = (key,val)\n",
        "                found = True\n",
        "        if not found:\n",
        "            self.arr[h].append((key,val))\n",
        "        \n",
        "    def __delitem__(self, key):\n",
        "        arr_index = self.get_hash(key)\n",
        "        for index, kv in enumerate(self.arr[arr_index]):\n",
        "            if kv[0] == key:\n",
        "                print(\"del\",index)\n",
        "                del self.arr[arr_index][index]"
      ]
    },
    {
      "cell_type": "code",
      "execution_count": 36,
      "id": "9189150d",
      "metadata": {
        "id": "9189150d"
      },
      "outputs": [],
      "source": [
        "t = HashTable()\n",
        "t[\"march 6\"] = 310\n",
        "t[\"march 7\"] = 420\n",
        "t[\"march 8\"] = 67\n",
        "t[\"march 17\"] = 63457"
      ]
    },
    {
      "cell_type": "code",
      "execution_count": 37,
      "id": "10ca8c0f",
      "metadata": {
        "id": "10ca8c0f",
        "outputId": "262f2f25-0250-4fbf-9c40-120e2e1f5a2f",
        "colab": {
          "base_uri": "https://localhost:8080/"
        }
      },
      "outputs": [
        {
          "output_type": "execute_result",
          "data": {
            "text/plain": [
              "310"
            ]
          },
          "metadata": {},
          "execution_count": 37
        }
      ],
      "source": [
        "t[\"march 6\"]"
      ]
    },
    {
      "cell_type": "code",
      "execution_count": 38,
      "id": "b40e7fc5",
      "metadata": {
        "id": "b40e7fc5",
        "outputId": "cf0d4717-c6d6-45c0-e707-3e1d1220d183",
        "colab": {
          "base_uri": "https://localhost:8080/"
        }
      },
      "outputs": [
        {
          "output_type": "execute_result",
          "data": {
            "text/plain": [
              "63457"
            ]
          },
          "metadata": {},
          "execution_count": 38
        }
      ],
      "source": [
        "t[\"march 17\"]"
      ]
    },
    {
      "cell_type": "code",
      "execution_count": 39,
      "id": "f4fa39d1",
      "metadata": {
        "id": "f4fa39d1",
        "outputId": "b22de07f-0306-4107-cab4-2eb341355e15",
        "colab": {
          "base_uri": "https://localhost:8080/"
        }
      },
      "outputs": [
        {
          "output_type": "execute_result",
          "data": {
            "text/plain": [
              "[[('march 7', 420)],\n",
              " [('march 8', 67)],\n",
              " [],\n",
              " [],\n",
              " [],\n",
              " [],\n",
              " [],\n",
              " [],\n",
              " [],\n",
              " [('march 6', 310), ('march 17', 63457)]]"
            ]
          },
          "metadata": {},
          "execution_count": 39
        }
      ],
      "source": [
        "t.arr"
      ]
    },
    {
      "cell_type": "code",
      "execution_count": 40,
      "id": "a7307791",
      "metadata": {
        "id": "a7307791"
      },
      "outputs": [],
      "source": [
        "t[\"march 6\"] = 11"
      ]
    },
    {
      "cell_type": "code",
      "execution_count": 41,
      "id": "1f7b958a",
      "metadata": {
        "id": "1f7b958a",
        "outputId": "eedd16bf-8c75-451a-80f4-d7e87b468c07",
        "colab": {
          "base_uri": "https://localhost:8080/"
        }
      },
      "outputs": [
        {
          "output_type": "execute_result",
          "data": {
            "text/plain": [
              "[[('march 7', 420)],\n",
              " [('march 8', 67)],\n",
              " [],\n",
              " [],\n",
              " [],\n",
              " [],\n",
              " [],\n",
              " [],\n",
              " [],\n",
              " [('march 6', 11), ('march 17', 63457)]]"
            ]
          },
          "metadata": {},
          "execution_count": 41
        }
      ],
      "source": [
        "t.arr"
      ]
    },
    {
      "cell_type": "code",
      "execution_count": 42,
      "id": "fa34f524",
      "metadata": {
        "id": "fa34f524",
        "outputId": "ff2b3b48-ed8a-4428-e9c2-472be0729dd0",
        "colab": {
          "base_uri": "https://localhost:8080/"
        }
      },
      "outputs": [
        {
          "output_type": "execute_result",
          "data": {
            "text/plain": [
              "11"
            ]
          },
          "metadata": {},
          "execution_count": 42
        }
      ],
      "source": [
        "t[\"march 6\"]"
      ]
    },
    {
      "cell_type": "code",
      "execution_count": 43,
      "id": "d1de0519",
      "metadata": {
        "id": "d1de0519",
        "outputId": "f7a8f491-3874-49dd-e6d0-d3c3a971d05e",
        "colab": {
          "base_uri": "https://localhost:8080/"
        }
      },
      "outputs": [
        {
          "output_type": "stream",
          "name": "stdout",
          "text": [
            "del 0\n"
          ]
        }
      ],
      "source": [
        "del t[\"march 6\"]"
      ]
    }
  ],
  "metadata": {
    "kernelspec": {
      "display_name": "Python 3 (ipykernel)",
      "language": "python",
      "name": "python3"
    },
    "language_info": {
      "codemirror_mode": {
        "name": "ipython",
        "version": 3
      },
      "file_extension": ".py",
      "mimetype": "text/x-python",
      "name": "python",
      "nbconvert_exporter": "python",
      "pygments_lexer": "ipython3",
      "version": "3.10.5"
    },
    "colab": {
      "provenance": []
    }
  },
  "nbformat": 4,
  "nbformat_minor": 5
}