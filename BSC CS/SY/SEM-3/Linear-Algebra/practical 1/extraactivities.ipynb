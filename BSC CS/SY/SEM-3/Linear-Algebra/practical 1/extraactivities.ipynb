{
  "cells": [
    {
      "cell_type": "markdown",
      "metadata": {
        "id": "XfoAqMnUsQec"
      },
      "source": [
        "<h1>Extra Activities Practical-1</h1>"
      ]
    },
    {
      "cell_type": "markdown",
      "metadata": {
        "id": "ysEmmnC0rWRn"
      },
      "source": [
        "<h2>1. (1+3j) + (10+20j)</h2>"
      ]
    },
    {
      "cell_type": "code",
      "execution_count": null,
      "metadata": {
        "colab": {
          "base_uri": "https://localhost:8080/"
        },
        "id": "KaIxXLfsrhAU",
        "outputId": "b9d56daa-ecae-41c7-d8dd-1a39066f7aaa"
      },
      "outputs": [
        {
          "name": "stdout",
          "output_type": "stream",
          "text": [
            "Addition of two complex number is : (11+23j)\n"
          ]
        }
      ],
      "source": [
        "a = 1+3j\n",
        "b = (10+20j)\n",
        "print (\"Addition of two complex number is :\", a+b)"
      ]
    },
    {
      "cell_type": "markdown",
      "metadata": {
        "id": "q3uM01-Urt_g"
      },
      "source": [
        "<h2>2. If x=1+3j then find (x-1)**2</h2>"
      ]
    },
    {
      "cell_type": "code",
      "execution_count": null,
      "metadata": {
        "colab": {
          "base_uri": "https://localhost:8080/"
        },
        "id": "17LYtAAbruf_",
        "outputId": "a2418a1b-4cf5-4a23-9597-e6d53c5782e5"
      },
      "outputs": [
        {
          "name": "stdout",
          "output_type": "stream",
          "text": [
            "(-9+0j)\n"
          ]
        }
      ],
      "source": [
        "x = 1+3j\n",
        "y = (x-1)**2\n",
        "print (y)"
      ]
    },
    {
      "cell_type": "markdown",
      "metadata": {
        "id": "3Vy2OzGQrzSk"
      },
      "source": [
        "<h2>3. 1+2j*3</h2>"
      ]
    },
    {
      "cell_type": "code",
      "execution_count": null,
      "metadata": {
        "colab": {
          "base_uri": "https://localhost:8080/"
        },
        "id": "q8TgBWe9r0Qo",
        "outputId": "c2cf44f5-0f3d-46b2-adb8-20b9fb1f114b"
      },
      "outputs": [
        {
          "name": "stdout",
          "output_type": "stream",
          "text": [
            "(1+6j)\n"
          ]
        }
      ],
      "source": [
        "x = 1+2j*3\n",
        "print(x)"
      ]
    },
    {
      "cell_type": "markdown",
      "metadata": {
        "id": "o1cSOFvcr5T7"
      },
      "source": [
        "<h2>4. 4*3j**2</h2>"
      ]
    },
    {
      "cell_type": "code",
      "execution_count": null,
      "metadata": {
        "colab": {
          "base_uri": "https://localhost:8080/"
        },
        "id": "uRIUvSwcr6Nq",
        "outputId": "591232cb-e55e-49bb-9a28-867e1df3d33e"
      },
      "outputs": [
        {
          "name": "stdout",
          "output_type": "stream",
          "text": [
            "(-36+0j)\n"
          ]
        }
      ],
      "source": [
        "x = 4*3j**2\n",
        "print(x)"
      ]
    },
    {
      "cell_type": "markdown",
      "metadata": {
        "id": "LXLTQjXKr8-J"
      },
      "source": [
        "<h2>5. If x=1+3j the find x.real & x.imag</h2>"
      ]
    },
    {
      "cell_type": "code",
      "execution_count": null,
      "metadata": {
        "colab": {
          "base_uri": "https://localhost:8080/"
        },
        "id": "Tbp-0PKLr_1p",
        "outputId": "5e337bc3-a980-451c-9c3b-38203d147454"
      },
      "outputs": [
        {
          "name": "stdout",
          "output_type": "stream",
          "text": [
            "1.0\n",
            "3.0\n"
          ]
        }
      ],
      "source": [
        "x = 1+3j\n",
        "print(x.real)\n",
        "print(x.imag)"
      ]
    },
    {
      "cell_type": "markdown",
      "metadata": {
        "id": "8h1aPfD3sEnh"
      },
      "source": [
        "<h2>6. If x=1+3j the find x.conjugate</h2>"
      ]
    },
    {
      "cell_type": "code",
      "execution_count": null,
      "metadata": {
        "colab": {
          "base_uri": "https://localhost:8080/"
        },
        "id": "A4H4MtSRsFkh",
        "outputId": "7ac14257-37f0-4211-d8c3-6ab8b727f6dc"
      },
      "outputs": [
        {
          "name": "stdout",
          "output_type": "stream",
          "text": [
            "(1-3j)\n"
          ]
        }
      ],
      "source": [
        "x = 1+3j\n",
        "print(x.conjugate())"
      ]
    },
    {
      "cell_type": "markdown",
      "metadata": {
        "id": "yiKV--bFsIsz"
      },
      "source": [
        "<h2>7. Plot S = {3+3i, 4+3i, 2+i, 2.5+i, 3+i, 3.25+i}</h2>"
      ]
    },
    {
      "cell_type": "code",
      "execution_count": 8,
      "metadata": {
        "colab": {
          "base_uri": "https://localhost:8080/",
          "height": 265
        },
        "id": "k02MycTlsKj4",
        "outputId": "c20d6fb6-5ed6-48aa-db3e-df9e9a1d8f04"
      },
      "outputs": [
        {
          "data": {
            "image/png": "[encoded data removed]",
            "text/plain": [
              "<Figure size 640x480 with 1 Axes>"
            ]
          },
          "metadata": {},
          "output_type": "display_data"
        }
      ],
      "source": [
        "import matplotlib.pyplot as plot\n",
        "S = [3+3j, 4+3j, 2+1j, 2.5+1j, 3+1j, 3.25+1j]\n",
        "X = [x.real for x in S]\n",
        "Y = [x.imag for x in S]\n",
        "plot.scatter(X,Y, color=\"purple\")\n",
        "plot.show()"
      ]
    }
  ],
  "metadata": {
    "colab": {
      "name": "extraactivities.ipynb",
      "provenance": []
    },
    "kernelspec": {
      "display_name": "Python 3.10.4 64-bit",
      "language": "python",
      "name": "python3"
    },
    "language_info": {
      "codemirror_mode": {
        "name": "ipython",
        "version": 3
      },
      "file_extension": ".py",
      "mimetype": "text/x-python",
      "name": "python",
      "nbconvert_exporter": "python",
      "pygments_lexer": "ipython3",
      "version": "3.10.4"
    },
    "vscode": {
      "interpreter": {
        "hash": "10e9aac84282539994078db1be2f537695a8865e78eb5e3c29f0b2ce90162212"
      }
    }
  },
  "nbformat": 4,
  "nbformat_minor": 0
}
