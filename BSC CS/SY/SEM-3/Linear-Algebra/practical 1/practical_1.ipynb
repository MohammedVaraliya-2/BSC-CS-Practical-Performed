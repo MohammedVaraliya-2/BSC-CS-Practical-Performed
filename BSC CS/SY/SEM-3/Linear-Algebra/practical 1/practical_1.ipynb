{
  "cells": [
    {
      "cell_type": "markdown",
      "metadata": {
        "id": "PVtV8ZT4om1K"
      },
      "source": [
        "<h1>Linear Algebra Practical 1</h1>"
      ]
    },
    {
      "cell_type": "markdown",
      "metadata": {
        "id": "zL68iqYWoxFf"
      },
      "source": [
        "<h2>1. Addition of two complex numbers</h2>"
      ]
    },
    {
      "cell_type": "code",
      "execution_count": null,
      "metadata": {
        "colab": {
          "base_uri": "https://localhost:8080/"
        },
        "id": "ic3MEaAnoyzn",
        "outputId": "83628611-9fc7-403a-ae8d-7b7f41b7cb8c"
      },
      "outputs": [
        {
          "name": "stdout",
          "output_type": "stream",
          "text": [
            "Addition of two complex numbers is :  (11+6j)\n"
          ]
        }
      ],
      "source": [
        "x = 1+3j\n",
        "y = 10+3j\n",
        "print(\"Addition of two complex numbers is : \", x+y)"
      ]
    },
    {
      "cell_type": "markdown",
      "metadata": {
        "id": "nwxiZgSno5eX"
      },
      "source": [
        "<h2>2. Displaying the conjugate of a complex number</h2>"
      ]
    },
    {
      "cell_type": "code",
      "execution_count": null,
      "metadata": {
        "colab": {
          "base_uri": "https://localhost:8080/"
        },
        "id": "3XvCExsYo6Q8",
        "outputId": "db467f68-fbf9-4867-d8e2-8658eb0caaad"
      },
      "outputs": [
        {
          "name": "stdout",
          "output_type": "stream",
          "text": [
            "Conjugate of a given complex number is :  (4-2j)\n"
          ]
        }
      ],
      "source": [
        "a = 4+2j\n",
        "print(\"Conjugate of a given complex number is : \", a.conjugate())"
      ]
    },
    {
      "cell_type": "markdown",
      "metadata": {
        "id": "GBwL5MCoo_Zo"
      },
      "source": [
        "<h2>3. Plotting a set of complex numbers</h2>"
      ]
    },
    {
      "cell_type": "code",
      "execution_count": 4,
      "metadata": {
        "colab": {
          "base_uri": "https://localhost:8080/",
          "height": 265
        },
        "id": "i4s41iYOpATB",
        "outputId": "f15bdc87-95a4-400e-e8b4-64b5f1aac9c8"
      },
      "outputs": [
        {
          "data": {
            "image/png": "[encoded data removed]",
            "text/plain": [
              "<Figure size 640x480 with 1 Axes>"
            ]
          },
          "metadata": {},
          "output_type": "display_data"
        }
      ],
      "source": [
        "import matplotlib.pyplot as plot\n",
        "a = [-4+3j, -2+1j, -5+3.5j, 0+2j, 1+1.5j]\n",
        "X = [x.real for x in a]\n",
        "Y = [x.imag for x in a]\n",
        "plot.scatter(X,Y, color=\"blue\")\n",
        "plot.show()"
      ]
    },
    {
      "cell_type": "markdown",
      "metadata": {
        "id": "jkDaL882pGIq"
      },
      "source": [
        "<h2>To rotate a complex number at different degrees</h2>"
      ]
    },
    {
      "cell_type": "markdown",
      "metadata": {
        "id": "iN8mWbdzpJTl"
      },
      "source": [
        "<h2>(a) Rotation by 90 degree</h2>"
      ]
    },
    {
      "cell_type": "code",
      "execution_count": null,
      "metadata": {
        "colab": {
          "base_uri": "https://localhost:8080/",
          "height": 265
        },
        "id": "F2cmaicBpL6W",
        "outputId": "41230312-8ce8-4adf-f448-f31dfaeb6d91"
      },
      "outputs": [
        {
          "data": {
            "image/png": "[encoded data removed]",
            "text/plain": [
              "<Figure size 432x288 with 1 Axes>"
            ]
          },
          "metadata": {
            "needs_background": "light"
          },
          "output_type": "display_data"
        }
      ],
      "source": [
        "import matplotlib.pyplot as plt\n",
        "m=2+4j\n",
        "n=1j\n",
        "plt.scatter(m.real,m.imag,color='red')\n",
        "c=m*n\n",
        "plt.scatter(c.real,c.imag,color='purple')\n",
        "plt.show()"
      ]
    },
    {
      "cell_type": "markdown",
      "metadata": {
        "id": "z80XBCKApSDv"
      },
      "source": [
        "<h2>(b) Rotation by 180 degree</h2>"
      ]
    },
    {
      "cell_type": "code",
      "execution_count": null,
      "metadata": {
        "colab": {
          "base_uri": "https://localhost:8080/",
          "height": 265
        },
        "id": "WbDLxNPRpTeW",
        "outputId": "49f7b75b-352d-41a8-804d-fad115c872c5"
      },
      "outputs": [
        {
          "data": {
            "image/png": "[encoded data removed]",
            "text/plain": [
              "<Figure size 432x288 with 1 Axes>"
            ]
          },
          "metadata": {
            "needs_background": "light"
          },
          "output_type": "display_data"
        }
      ],
      "source": [
        "import matplotlib.pyplot as plt\n",
        "m=2+4j\n",
        "n=-1\n",
        "plt.scatter(m.real,m.imag,color='red')\n",
        "c=m*n\n",
        "plt.scatter(c.real,c.imag,color='purple')\n",
        "plt.show()"
      ]
    },
    {
      "cell_type": "markdown",
      "metadata": {
        "id": "qf4pr4tmpWOH"
      },
      "source": [
        "<h2>(c) Rotation by 270 degree</h2>"
      ]
    },
    {
      "cell_type": "code",
      "execution_count": null,
      "metadata": {
        "colab": {
          "base_uri": "https://localhost:8080/",
          "height": 265
        },
        "id": "KGYGWLcMpZvI",
        "outputId": "acf11706-7d36-4aaf-fe9a-5ec35c3d3c13"
      },
      "outputs": [
        {
          "data": {
            "image/png": "[encoded data removed]",
            "text/plain": [
              "<Figure size 432x288 with 1 Axes>"
            ]
          },
          "metadata": {
            "needs_background": "light"
          },
          "output_type": "display_data"
        }
      ],
      "source": [
        "import matplotlib.pyplot as plt\n",
        "m=2+4j\n",
        "n=-1j\n",
        "plt.scatter(m.real,m.imag,color='red')\n",
        "c=m*n\n",
        "plt.scatter(c.real,c.imag,color='purple')\n",
        "plt.show()"
      ]
    }
  ],
  "metadata": {
    "colab": {
      "name": "practical-1.ipynb",
      "provenance": []
    },
    "kernelspec": {
      "display_name": "Python 3.10.4 64-bit",
      "language": "python",
      "name": "python3"
    },
    "language_info": {
      "codemirror_mode": {
        "name": "ipython",
        "version": 3
      },
      "file_extension": ".py",
      "mimetype": "text/x-python",
      "name": "python",
      "nbconvert_exporter": "python",
      "pygments_lexer": "ipython3",
      "version": "3.10.4"
    },
    "vscode": {
      "interpreter": {
        "hash": "10e9aac84282539994078db1be2f537695a8865e78eb5e3c29f0b2ce90162212"
      }
    }
  },
  "nbformat": 4,
  "nbformat_minor": 0
}
