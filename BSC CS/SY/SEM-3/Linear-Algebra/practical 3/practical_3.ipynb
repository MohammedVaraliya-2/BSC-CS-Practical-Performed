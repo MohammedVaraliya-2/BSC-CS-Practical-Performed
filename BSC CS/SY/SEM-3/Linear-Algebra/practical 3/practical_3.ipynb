{
  "cells": [
    {
      "cell_type": "markdown",
      "metadata": {
        "id": "9bx9v6GlxVRz"
      },
      "source": [
        "<h1>Linear Algebra Practical-2</h1>"
      ]
    },
    {
      "cell_type": "markdown",
      "metadata": {
        "id": "N3K0ditTxN9u"
      },
      "source": [
        "<h2>1. Addition, subtraction and mutiplication of Two Matrix</h2>"
      ]
    },
    {
      "cell_type": "code",
      "execution_count": 1,
      "metadata": {
        "colab": {
          "base_uri": "https://localhost:8080/"
        },
        "id": "MQtrLf7yxf4m",
        "outputId": "0e9e6ea4-ed73-4e23-d20f-173dffe4d295"
      },
      "outputs": [
        {
          "name": "stdout",
          "output_type": "stream",
          "text": [
            "The Matrix a is :\n",
            "[[1 2]\n",
            " [3 4]]\n",
            "The Matrix b is :\n",
            "[[5 6]\n",
            " [7 8]]\n",
            "Addition of two matrix a and b is : \n",
            "[[ 6  8]\n",
            " [10 12]]\n",
            "Subtraction of two matrix a and b is : \n",
            "[[-4 -4]\n",
            " [-4 -4]]\n",
            "Multiplication of two matrix a and b is : \n",
            "[[ 5 12]\n",
            " [21 32]]\n"
          ]
        }
      ],
      "source": [
        "import numpy as np\n",
        "\n",
        "# Addition, subtraction and mutiplication of Two Matrix\n",
        "a = np.array([[1,2], [3,4]])\n",
        "b = np.array([[5,6], [7,8]])\n",
        "print(\"The Matrix a is :\")\n",
        "print(a)\n",
        "print(\"The Matrix b is :\")\n",
        "print(b)\n",
        "\n",
        "print(\"Addition of two matrix a and b is : \")\n",
        "print(a+b)\n",
        "\n",
        "print(\"Subtraction of two matrix a and b is : \")\n",
        "print(a-b)\n",
        "\n",
        "print(\"Multiplication of two matrix a and b is : \")\n",
        "print(a*b)"
      ]
    },
    {
      "cell_type": "markdown",
      "metadata": {
        "id": "GxuBt9bUxssE"
      },
      "source": [
        "<h2>2. Check if matrix is invertible.</h2>"
      ]
    },
    {
      "cell_type": "code",
      "execution_count": 3,
      "metadata": {
        "colab": {
          "base_uri": "https://localhost:8080/"
        },
        "id": "Z3GrYVHsxwyF",
        "outputId": "539b284b-f253-47f7-a895-c24c9e95da07"
      },
      "outputs": [
        {
          "name": "stdout",
          "output_type": "stream",
          "text": [
            "Matrix M = \n",
            "[[5 7]\n",
            " [2 3]]\n",
            "Determinant =  0.9999999999999987\n",
            "Inverse of Matrix M = \n",
            "[[ 3. -7.]\n",
            " [-2.  5.]]\n"
          ]
        }
      ],
      "source": [
        "import numpy as np\n",
        "\n",
        "matrix = np.array([[5,7], [2,3]])\n",
        "\n",
        "print(\"Matrix M = \")\n",
        "print(matrix)\n",
        "\n",
        "c = np.linalg.det(matrix)\n",
        "print(\"Determinant = \", c)\n",
        "\n",
        "if(c != 0):\n",
        "    i = np.linalg.inv(matrix)\n",
        "    print(\"Inverse of Matrix M = \")\n",
        "    print(i)\n",
        "else:\n",
        "    print(\"Matrix M is invertible\")"
      ]
    }
  ],
  "metadata": {
    "colab": {
      "name": "practical-2.ipynb",
      "provenance": []
    },
    "kernelspec": {
      "display_name": "Python 3",
      "name": "python3"
    },
    "language_info": {
      "name": "python"
    }
  },
  "nbformat": 4,
  "nbformat_minor": 0
}
