{
  "cells": [
    {
      "cell_type": "markdown",
      "metadata": {
        "id": "dbZiKWtDTBu_"
      },
      "source": [
        "<h1>Assignment-1</h1>"
      ]
    },
    {
      "cell_type": "markdown",
      "metadata": {
        "id": "GPFsIqahTKTA"
      },
      "source": [
        "<h2>Write a python program for rotating a complex number z=2+3i by 180°</h2>"
      ]
    },
    {
      "cell_type": "code",
      "execution_count": 1,
      "metadata": {
        "colab": {
          "base_uri": "https://localhost:8080/",
          "height": 265
        },
        "id": "ERBZhlwEQetB",
        "outputId": "d2f5aefb-e12c-432a-dd0f-b3a72b238ecb"
      },
      "outputs": [
        {
          "data": {
            "image/png": "[encoded data removed]",
            "text/plain": [
              "<Figure size 432x288 with 1 Axes>"
            ]
          },
          "metadata": {
            "needs_background": "light"
          },
          "output_type": "display_data"
        }
      ],
      "source": [
        "import matplotlib.pyplot as plt\n",
        "m=2+3j\n",
        "n=-1\n",
        "plt.scatter(m.real,m.imag,color='red')\n",
        "c=m*n\n",
        "plt.scatter(c.real,c.imag,color='purple')\n",
        "plt.show()"
      ]
    },
    {
      "cell_type": "markdown",
      "metadata": {
        "id": "Q5d2ILFvTB2g"
      },
      "source": [
        "<h2>Write a python program to enter a matrix and check if it is invertible. If invertible exists then find inverse.</h2>"
      ]
    },
    {
      "cell_type": "code",
      "execution_count": 2,
      "metadata": {
        "colab": {
          "base_uri": "https://localhost:8080/"
        },
        "id": "c_1m-EkMTqXt",
        "outputId": "f692a555-d3c4-48ff-c7ae-56d40aba1f23"
      },
      "outputs": [
        {
          "name": "stdout",
          "output_type": "stream",
          "text": [
            "Matrix M = \n",
            "[[ 5  1]\n",
            " [10  2]]\n",
            "Determinant =  0.0\n",
            "Matrix M is invertible\n",
            "Matrix M = \n",
            "[[ 5  2]\n",
            " [10  3]]\n",
            "Determinant =  -5.000000000000001\n",
            "Inverse of Matrix M = \n",
            "[[-0.6  0.4]\n",
            " [ 2.  -1. ]]\n"
          ]
        }
      ],
      "source": [
        "# invertible example\n",
        "import numpy as np\n",
        "\n",
        "matrix = np.array([[5,1], [10,2]])\n",
        "print(\"Matrix M = \")\n",
        "print(matrix)\n",
        "\n",
        "c = np.linalg.det(matrix)\n",
        "print(\"Determinant = \", c)\n",
        "\n",
        "if(c != 0):\n",
        "    i = np.linalg.inv(matrix)\n",
        "    print(\"Inverse of Matrix M = \")\n",
        "    print(i)\n",
        "    \n",
        "else:\n",
        "    print(\"Matrix M is invertible\")\n",
        "\n",
        "# Non-invertible example\n",
        "import numpy as np\n",
        "\n",
        "matrix = np.array([[5,2], [10,3]])\n",
        "print(\"Matrix M = \")\n",
        "print(matrix)\n",
        "\n",
        "c = np.linalg.det(matrix)\n",
        "print(\"Determinant = \", c)\n",
        "\n",
        "if(c != 0):\n",
        "    i = np.linalg.inv(matrix)\n",
        "    print(\"Inverse of Matrix M = \")\n",
        "    print(i)\n",
        "    \n",
        "else:\n",
        "    print(\"Matrix M is invertible\")"
      ]
    }
  ],
  "metadata": {
    "colab": {
      "provenance": []
    },
    "kernelspec": {
      "display_name": "Python 3.10.4 64-bit",
      "language": "python",
      "name": "python3"
    },
    "language_info": {
      "name": "python",
      "version": "3.10.4"
    },
    "vscode": {
      "interpreter": {
        "hash": "10e9aac84282539994078db1be2f537695a8865e78eb5e3c29f0b2ce90162212"
      }
    }
  },
  "nbformat": 4,
  "nbformat_minor": 0
}
